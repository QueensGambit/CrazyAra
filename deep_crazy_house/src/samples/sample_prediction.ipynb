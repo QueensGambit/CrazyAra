{
 "cells": [
  {
   "cell_type": "markdown",
   "metadata": {},
   "source": [
    "### Sample Script Prediction Script\n",
    "\n",
    "Verify that loading and prediciton of the model is working correcticly\n",
    "\n",
    "Hardware Setup:\n",
    "\n",
    "    Memory (RAM): 31,4 GiB\n",
    "    Processor - AMD® Ryzen 7 1700 eight-core processor × 16\n",
    "    Graphics - GeForce GTX 1080 Ti/PCIe/SSE2\n",
    "    OS type - 64-bit\n"
   ]
  },
  {
   "cell_type": "code",
   "execution_count": null,
   "metadata": {},
   "outputs": [],
   "source": [
    "import mxnet as mx\n",
    "import chess.variant\n",
    "import numpy as np\n",
    "import matplotlib.pyplot as plt\n",
    "import sys\n",
    "sys.path.insert(0,'../../../')\n",
    "import DeepCrazyhouse.src.runtime.Colorer\n",
    "from DeepCrazyhouse.src.domain.util import *\n",
    "from DeepCrazyhouse.src.domain.crazyhouse.input_representation import board_to_planes\n",
    "from DeepCrazyhouse.src.domain.crazyhouse.output_representation import policy_to_moves\n",
    "from DeepCrazyhouse.src.domain.agent.NeuralNetAPI import NeuralNetAPI\n",
    "from DeepCrazyhouse.src.domain.crazyhouse.constants import *\n",
    "from DeepCrazyhouse.configs.main_config import main_config\n",
    "from collections import deque\n",
    "from glob import glob\n",
    "from time import time, sleep\n",
    "%matplotlib inline"
   ]
  },
  {
   "cell_type": "code",
   "execution_count": null,
   "metadata": {},
   "outputs": [],
   "source": [
    "ctx = 'gpu'"
   ]
  },
  {
   "cell_type": "code",
   "execution_count": null,
   "metadata": {},
   "outputs": [],
   "source": [
    "sym_path = glob(main_config['model_architecture_dir'] + '*')[0]\n",
    "sym_path"
   ]
  },
  {
   "cell_type": "code",
   "execution_count": null,
   "metadata": {},
   "outputs": [],
   "source": [
    "params_path = glob(main_config['model_weights_dir'] + '*')[0]\n",
    "params_path"
   ]
  },
  {
   "cell_type": "code",
   "execution_count": null,
   "metadata": {},
   "outputs": [],
   "source": [
    "sym = mx.sym.load(sym_path)"
   ]
  },
  {
   "cell_type": "code",
   "execution_count": null,
   "metadata": {},
   "outputs": [],
   "source": [
    "# https://github.com/apache/incubator-mxnet/issues/6951\n",
    "save_dict = mx.nd.load(params_path)\n",
    "arg_params = {}\n",
    "aux_params = {}\n",
    "for k, v in save_dict.items():\n",
    "    tp, name = k.split(':', 1)\n",
    "    if tp == 'arg':\n",
    "        arg_params[name] = v\n",
    "    if tp == 'aux':\n",
    "        aux_params[name] = v"
   ]
  },
  {
   "cell_type": "code",
   "execution_count": null,
   "metadata": {},
   "outputs": [],
   "source": [
    "import time\n",
    "import os\n",
    "\n",
    "batch_shape = (8, 34, 8, 8)"
   ]
  },
  {
   "cell_type": "markdown",
   "metadata": {},
   "source": [
    "### MXNet Baseline Performance"
   ]
  },
  {
   "cell_type": "code",
   "execution_count": null,
   "metadata": {},
   "outputs": [],
   "source": [
    "# Create sample input\n",
    "input = mx.nd.zeros(batch_shape)"
   ]
  },
  {
   "cell_type": "code",
   "execution_count": null,
   "metadata": {},
   "outputs": [],
   "source": [
    "# Execute with MXNet\n",
    "os.environ['MXNET_USE_TENSORRT'] = '0'\n",
    "executor = sym.simple_bind(ctx=mx.gpu(0), data=batch_shape, grad_req='null', force_rebind=True)\n",
    "executor.copy_params_from(arg_params, aux_params)\n",
    "\n",
    "# Warmup\n",
    "print('Warming up MXNet')\n",
    "for i in range(0, 10):\n",
    "    y_gen = executor.forward(is_train=False, data=input)\n",
    "    y_gen[0].wait_to_read()\n",
    "\n",
    "# Timing\n",
    "print('Starting MXNet timed run')\n",
    "start = time.process_time()\n",
    "for i in range(0, 500):\n",
    "    y_gen = executor.forward(is_train=False, data=input)\n",
    "    y_gen[0].wait_to_read()\n",
    "end = time.time()\n",
    "print(time.process_time() - start)"
   ]
  },
  {
   "cell_type": "code",
   "execution_count": null,
   "metadata": {},
   "outputs": [],
   "source": [
    "%%timeit\n",
    "input = mx.nd.array(np.zeros(batch_shape))\n",
    "y_gen = executor.forward(is_train=False, data=input)\n",
    "y_gen[0].wait_to_read()"
   ]
  },
  {
   "cell_type": "markdown",
   "metadata": {},
   "source": [
    "### MXNet with TensorRT Integration Performance"
   ]
  },
  {
   "cell_type": "code",
   "execution_count": null,
   "metadata": {},
   "outputs": [],
   "source": [
    "# Execute with TensorRT\n",
    "print('Building TensorRT engine')\n",
    "os.environ['MXNET_USE_TENSORRT'] = '1'\n",
    "arg_params.update(aux_params)\n",
    "all_params = dict([(k, v.as_in_context(mx.gpu(0))) for k, v in arg_params.items()])\n",
    "executor = mx.contrib.tensorrt.tensorrt_bind(sym, ctx=mx.gpu(0), all_params=all_params,\n",
    "                                             data=batch_shape, grad_req='null', force_rebind=True)"
   ]
  },
  {
   "cell_type": "code",
   "execution_count": null,
   "metadata": {},
   "outputs": [],
   "source": [
    "%%timeit\n",
    "input = mx.nd.array(np.zeros(batch_shape))\n",
    "y_gen = executor.forward(is_train=False, data=input)\n",
    "y_gen[0].wait_to_read()"
   ]
  },
  {
   "cell_type": "code",
   "execution_count": null,
   "metadata": {},
   "outputs": [],
   "source": [
    "mod = mx.sym.load(sym_path)"
   ]
  },
  {
   "cell_type": "code",
   "execution_count": null,
   "metadata": {},
   "outputs": [],
   "source": [
    "net_api = NeuralNetAPI(ctx=ctx)"
   ]
  },
  {
   "cell_type": "code",
   "execution_count": null,
   "metadata": {},
   "outputs": [],
   "source": [
    "net = net_api.get_net()"
   ]
  },
  {
   "cell_type": "code",
   "execution_count": null,
   "metadata": {},
   "outputs": [],
   "source": [
    "board = chess.variant.CrazyhouseBoard()\n",
    "board"
   ]
  },
  {
   "cell_type": "code",
   "execution_count": null,
   "metadata": {},
   "outputs": [],
   "source": [
    "batch_size = 8\n",
    "x = board_to_planes(board, board_occ=0, normalize=True)\n",
    "x_mat_single = np.expand_dims(x, axis=0)\n",
    "x_mat_batch = np.stack([x]*batch_size)"
   ]
  },
  {
   "cell_type": "code",
   "execution_count": null,
   "metadata": {},
   "outputs": [],
   "source": [
    "x.shape"
   ]
  },
  {
   "cell_type": "code",
   "execution_count": null,
   "metadata": {},
   "outputs": [],
   "source": [
    "pred = executor.forward(is_train=False, data=mx.nd.array(x_mat_single, ctx=mx.gpu()))"
   ]
  },
  {
   "cell_type": "code",
   "execution_count": null,
   "metadata": {},
   "outputs": [],
   "source": [
    "value, policy = pred[0][0].asnumpy(), pred[1][0].asnumpy()"
   ]
  },
  {
   "cell_type": "markdown",
   "metadata": {},
   "source": [
    "### Show the output prediction"
   ]
  },
  {
   "cell_type": "code",
   "execution_count": null,
   "metadata": {},
   "outputs": [],
   "source": [
    "[value, policy] = net_api.predict_single(x)"
   ]
  },
  {
   "cell_type": "code",
   "execution_count": null,
   "metadata": {},
   "outputs": [],
   "source": [
    "value"
   ]
  },
  {
   "cell_type": "code",
   "execution_count": null,
   "metadata": {},
   "outputs": [],
   "source": [
    "LABELS[policy.argmax()]"
   ]
  },
  {
   "cell_type": "code",
   "execution_count": null,
   "metadata": {},
   "outputs": [],
   "source": [
    "opts = 5\n",
    "selected_moves, probs = policy_to_moves(board, policy)\n",
    "selected_moves[:opts]"
   ]
  },
  {
   "cell_type": "code",
   "execution_count": null,
   "metadata": {},
   "outputs": [],
   "source": [
    "plt.barh(range(opts)[::-1], probs[:opts])\n",
    "ax = plt.gca()\n",
    "ax.set_yticks(range(opts)[::-1])\n",
    "ax.set_yticklabels(selected_moves)"
   ]
  },
  {
   "cell_type": "code",
   "execution_count": null,
   "metadata": {},
   "outputs": [],
   "source": [
    "if ctx == 'cpu':\n",
    "    ctx_mx = mx.cpu()\n",
    "elif ctx == 'gpu':\n",
    "    ctx_mx = mx.gpu()"
   ]
  },
  {
   "cell_type": "code",
   "execution_count": null,
   "metadata": {},
   "outputs": [],
   "source": [
    "nb_batches = 500"
   ]
  },
  {
   "cell_type": "markdown",
   "metadata": {},
   "source": [
    "### Runtime using batch_size of 1"
   ]
  },
  {
   "cell_type": "code",
   "execution_count": null,
   "metadata": {},
   "outputs": [],
   "source": [
    "#input_data = mx.nd.array(x_mat_single, ctx=ctx_mx)\n",
    "input_data = mx.nd.zeros(batch_shape, ctx=ctx_mx)"
   ]
  },
  {
   "cell_type": "code",
   "execution_count": null,
   "metadata": {},
   "outputs": [],
   "source": [
    "%%timeit\n",
    "net(mx.nd.array(x_mat_single, ctx=ctx_mx))"
   ]
  },
  {
   "cell_type": "code",
   "execution_count": null,
   "metadata": {},
   "outputs": [],
   "source": [
    "%%timeit\n",
    "net(mx.nd.array(x_mat_single, ctx=ctx_mx))"
   ]
  },
  {
   "cell_type": "code",
   "execution_count": null,
   "metadata": {},
   "outputs": [],
   "source": [
    "prediction_per_second = []\n",
    "for it in range(7):\n",
    "    print('Iteration %d' % (it+1))\n",
    "    t_s = time()\n",
    "    for i in range(nb_batches):\n",
    "        net(mx.nd.array(x_mat_single, ctx=ctx_mx))\n",
    "\n",
    "    elapsed_time = time() - t_s    \n",
    "    print('elapsed time: %.3fs' % elapsed_time)\n",
    "    preds_per_s = nb_batches / elapsed_time\n",
    "    prediction_per_second.append(preds_per_s)\n",
    "    print('predictions per second %.3f' % (preds_per_s))\n",
    "print('Predictions/s: %.3f +/- %.3f' % (np.array(prediction_per_second).mean(), np.array(prediction_per_second).std()))    "
   ]
  },
  {
   "cell_type": "markdown",
   "metadata": {},
   "source": [
    "### Runtime using given batch_size"
   ]
  },
  {
   "cell_type": "code",
   "execution_count": null,
   "metadata": {},
   "outputs": [],
   "source": [
    "prediction_per_second = []\n",
    "for it in range(7):\n",
    "    print('Iteration %d' % (it+1))\n",
    "    t_s = time()\n",
    "    for i in range(nb_batches):\n",
    "        net(mx.nd.array(x_mat_batch, ctx=ctx_mx))\n",
    "\n",
    "    elapsed_time = time() - t_s    \n",
    "    print('elapsed time: %.3fs' % elapsed_time)\n",
    "    preds_per_s = (nb_batches*batch_size) / elapsed_time\n",
    "    prediction_per_second.append(preds_per_s)\n",
    "    print('predictions per second %.3f' % (preds_per_s))\n",
    "print('Predictions/s: %.3f +/- %.3f' % (np.array(prediction_per_second).mean(), np.array(prediction_per_second).std()))    "
   ]
  },
  {
   "cell_type": "code",
   "execution_count": null,
   "metadata": {},
   "outputs": [],
   "source": []
  }
 ],
 "metadata": {
  "kernelspec": {
   "display_name": "Python 3",
   "language": "python",
   "name": "python3"
  },
  "language_info": {
   "codemirror_mode": {
    "name": "ipython",
    "version": 3
   },
   "file_extension": ".py",
   "mimetype": "text/x-python",
   "name": "python",
   "nbconvert_exporter": "python",
   "pygments_lexer": "ipython3"
  }
 },
 "nbformat": 4,
 "nbformat_minor": 2
}
