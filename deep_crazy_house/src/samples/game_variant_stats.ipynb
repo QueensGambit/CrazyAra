{
 "cells": [
  {
   "cell_type": "markdown",
   "metadata": {},
   "source": [
    "### Runtime test to check wether recreating the board state based on uci or\n",
    "### copying and pushing is faster in python-chess"
   ]
  },
  {
   "cell_type": "code",
   "execution_count": null,
   "metadata": {},
   "outputs": [],
   "source": [
    "import chess\n",
    "import chess.variant\n",
    "import matplotlib.pyplot as plt\n",
    "import random\n",
    "import numpy as np\n",
    "from copy import deepcopy\n",
    "import pandas as pd\n",
    "%matplotlib inline\n",
    "plt.style.use('seaborn-whitegrid')"
   ]
  },
  {
   "cell_type": "markdown",
   "metadata": {},
   "source": [
    "### Note you need matplotlib >= 3.0.0 to show the histograms properly"
   ]
  },
  {
   "cell_type": "code",
   "execution_count": null,
   "metadata": {},
   "outputs": [],
   "source": [
    "export_plots = True"
   ]
  },
  {
   "cell_type": "code",
   "execution_count": null,
   "metadata": {},
   "outputs": [],
   "source": [
    "def game_stats_random_play(board_in, nb_games, use_mate_shortcut=True):\n",
    "    half_moves_stats = np.zeros(nb_games)\n",
    "    game_outcomes = []\n",
    "    final_board_states = []\n",
    "    nb_legal_moves = []\n",
    "    \n",
    "    for i in range(nb_games):\n",
    "        \n",
    "        # create deepcopy of the board\n",
    "        board = deepcopy(board_in)\n",
    "        # reset the half moves counter\n",
    "        nb_half_moves = 0\n",
    "        while board.is_checkmate() is False and board.can_claim_draw() is False:\n",
    "\n",
    "            str_moves = str(board.legal_moves)\n",
    "\n",
    "            # select a random legal move\n",
    "            mv_list = list(board.legal_moves)\n",
    "\n",
    "            # log the number of legal moves\n",
    "            nb_legal_moves.append(len(mv_list))\n",
    "            \n",
    "            mate_mv_idx = str_moves.find('#')\n",
    "            \n",
    "            if  len(mv_list) > 0:\n",
    "                # check if there's a possible mate on the board -> execute it\n",
    "                if mate_mv_idx != -1 and use_mate_shortcut is True:\n",
    "                    # find the according index of the move in the legal_moves generator list\n",
    "                    mv_idx = str_moves[:mate_mv_idx].count(',')\n",
    "                else:\n",
    "                    # take a random legal move\n",
    "                    mv_idx = np.random.randint(len(mv_list))\n",
    "\n",
    "                # apply the move to the board\n",
    "                board.push(mv_list[mv_idx])\n",
    "                nb_half_moves += 1\n",
    "            else:\n",
    "                break\n",
    "\n",
    "        # record the number of half moves to the list\n",
    "        half_moves_stats[i] = nb_half_moves\n",
    "        # log the winner of the last board state\n",
    "        game_outcomes.append(board.result())\n",
    "        # log the final board state to the list\n",
    "        final_board_states.append(board)\n",
    "        \n",
    "    return half_moves_stats, game_outcomes, final_board_states, nb_legal_moves"
   ]
  },
  {
   "cell_type": "code",
   "execution_count": null,
   "metadata": {},
   "outputs": [],
   "source": [
    "def analyze_varariants(game_variant: dict, use_mate_shortcut=True, nb_sims=10):\n",
    "    for game_name in game_variant:\n",
    "        game = game_variant[game_name]\n",
    "        game['Game length (half moves)'], game['Game outcomes'], game['Final boards'], game['Number of legal moves'] = game_stats_random_play(game['board'], nb_sims, use_mate_shortcut)\n",
    "    return game_variant"
   ]
  },
  {
   "cell_type": "code",
   "execution_count": null,
   "metadata": {},
   "outputs": [],
   "source": [
    "game_variant = {}\n",
    "#game_variant['antichess'] = {'board': chess.variant.GiveawayBoard()}\n",
    "#game_variant['king of the hill'] = {'board': chess.variant.KingOfTheHillBoard()}\n",
    "game_variant['chess'] = {'board': chess.Board()}\n",
    "game_variant['atomic'] = {'board': chess.variant.AtomicBoard()}\n",
    "game_variant['crazyhouse'] = {'board': chess.variant.CrazyhouseBoard()}\n",
    "game_variant = analyze_varariants(game_variant, use_mate_shortcut=True, nb_sims=50)"
   ]
  },
  {
   "cell_type": "code",
   "execution_count": null,
   "metadata": {},
   "outputs": [],
   "source": [
    "def apply_def(filename):\n",
    "    plt.legend(frameon=True)\n",
    "    if export_plots is True:\n",
    "        plt.savefig('./plots/%s.png'%filename, bbox='tight')\n",
    "        plt.savefig('./plots/%s.pdf'%filename, bbox='tight')\n",
    "    plt.show()"
   ]
  },
  {
   "cell_type": "code",
   "execution_count": null,
   "metadata": {},
   "outputs": [],
   "source": [
    "# select all  the stats\n",
    "stats = list(game_variant[list(game_variant.keys())[0]].keys())\n",
    "\n",
    "for stat in stats:\n",
    "    \n",
    "    if 'board' not in stat:\n",
    "        # show a new histogram plot\n",
    "        plt.figure()\n",
    "        for variant in game_variant:\n",
    "            game_variant[variant][stat] = plt.hist(game_variant[variant][stat], alpha=1/len(game_variant), label=variant, stacked=True)\n",
    "            plt.title(stat)\n",
    "        filename = stat.replace(' ', '_')\n",
    "        apply_def(filename)"
   ]
  },
  {
   "cell_type": "code",
   "execution_count": null,
   "metadata": {},
   "outputs": [],
   "source": []
  }
 ],
 "metadata": {
  "kernelspec": {
   "display_name": "Python 3",
   "language": "python",
   "name": "python3"
  },
  "language_info": {
   "codemirror_mode": {
    "name": "ipython",
    "version": 3
   },
   "file_extension": ".py",
   "mimetype": "text/x-python",
   "name": "python",
   "nbconvert_exporter": "python",
   "pygments_lexer": "ipython3"
  }
 },
 "nbformat": 4,
 "nbformat_minor": 2
}
