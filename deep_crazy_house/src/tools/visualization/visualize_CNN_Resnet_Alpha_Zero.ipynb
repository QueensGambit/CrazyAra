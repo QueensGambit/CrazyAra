{
 "cells": [
  {
   "cell_type": "markdown",
   "metadata": {},
   "source": [
    "### Visualization of the current learned Model\n",
    "\n",
    "The model achieves a move prediction of 59% on the validation set"
   ]
  },
  {
   "cell_type": "code",
   "execution_count": null,
   "metadata": {},
   "outputs": [],
   "source": [
    "%load_ext autoreload\n",
    "%autoreload 2"
   ]
  },
  {
   "cell_type": "code",
   "execution_count": null,
   "metadata": {},
   "outputs": [],
   "source": [
    "%reload_ext autoreload"
   ]
  },
  {
   "cell_type": "code",
   "execution_count": null,
   "metadata": {},
   "outputs": [],
   "source": [
    "from __future__ import print_function\n",
    "\n",
    "from scipy.misc import imsave\n",
    "import numpy as np\n",
    "import time\n",
    "import matplotlib.pyplot as plt\n",
    "import math\n",
    "import sys\n",
    "sys.path.insert(0,'../../../../')\n",
    "import DeepCrazyhouse.src.runtime.Colorer\n",
    "from DeepCrazyhouse.src.domain.util import *\n",
    "from DeepCrazyhouse.src.domain.crazyhouse.input_representation import planes_to_board\n",
    "from DeepCrazyhouse.src.tools.visualization.plane_representation import get_plane_vis\n",
    "from DeepCrazyhouse.src.domain.crazyhouse.output_representation import *\n",
    "from DeepCrazyhouse.src.preprocessing.dataset_loader import load_pgn_dataset\n",
    "from IPython.display import SVG\n",
    "from keras.utils.vis_utils import model_to_dot\n",
    "# Save the model as png file\n",
    "from keras.utils.vis_utils import plot_model\n",
    "import mxnet as mx\n",
    "from mxnet import gluon\n",
    "from DeepCrazyhouse.configs.main_config import main_config\n",
    "from glob import glob\n",
    "import re\n",
    "import logging\n",
    "%matplotlib inline"
   ]
  },
  {
   "cell_type": "code",
   "execution_count": null,
   "metadata": {},
   "outputs": [],
   "source": [
    "#plt.style.use(\"seaborn-whitegrid\")\n",
    "plt.style.use(\"seaborn-white\")\n",
    "logging.getLogger().setLevel(logging.INFO)"
   ]
  },
  {
   "cell_type": "code",
   "execution_count": null,
   "metadata": {},
   "outputs": [],
   "source": [
    "main_config"
   ]
  },
  {
   "cell_type": "code",
   "execution_count": null,
   "metadata": {},
   "outputs": [],
   "source": [
    "# dimensions of the generated pictures for each filter.\n",
    "input_shape = (34, 8, 8)\n",
    "layer_idx = 25\n",
    "export_plots = True\n",
    "data_name = 'data'\n",
    "normalize = True\n",
    "activation =  'leakyrelu' # 'prelu' # "
   ]
  },
  {
   "cell_type": "code",
   "execution_count": null,
   "metadata": {},
   "outputs": [],
   "source": [
    "# set the context on CPU, you can switch to GPU if there is one available\n",
    "ctx = mx.cpu()\n",
    "\n",
    "## Load the test dataset\n",
    "s_idcs_test, x_test, yv_test, yp_test, pgn_dataset_test = load_pgn_dataset(dataset_type='test', part_id=0, normalize=normalize, print_statistics=True, print_parameters=True)"
   ]
  },
  {
   "cell_type": "code",
   "execution_count": null,
   "metadata": {},
   "outputs": [],
   "source": [
    "main_config[\"model_weights_dir\"]"
   ]
  },
  {
   "cell_type": "code",
   "execution_count": null,
   "metadata": {},
   "outputs": [],
   "source": [
    "symbol_file = glob(main_config[\"model_architecture_dir\"] + '*')[0]\n",
    "params_file = glob(main_config[\"model_weights_dir\"] + '*')[0]"
   ]
  },
  {
   "cell_type": "code",
   "execution_count": null,
   "metadata": {},
   "outputs": [],
   "source": [
    "net = gluon.nn.SymbolBlock.imports(symbol_file,\n",
    "                                   ['data'], \n",
    "                                   param_file=params_file,\n",
    "                                   ctx=mx.cpu())"
   ]
  },
  {
   "cell_type": "code",
   "execution_count": null,
   "metadata": {},
   "outputs": [],
   "source": [
    "sym = mx.sym.load(symbol_file)"
   ]
  },
  {
   "cell_type": "code",
   "execution_count": null,
   "metadata": {},
   "outputs": [],
   "source": [
    "# https://github.com/apache/incubator-mxnet/issues/6951\n",
    "save_dict = mx.nd.load(params_file)\n",
    "arg_params = {}\n",
    "aux_params = {}\n",
    "for k, v in save_dict.items():\n",
    "    tp, name = k.split(':', 1)\n",
    "    if tp == 'arg':\n",
    "        arg_params[name] = v\n",
    "    if tp == 'aux':\n",
    "        aux_params[name] = v"
   ]
  },
  {
   "cell_type": "code",
   "execution_count": null,
   "metadata": {},
   "outputs": [],
   "source": [
    "# list the last 10 layers\n",
    "all_layers = sym.get_internals()\n",
    "all_layers.list_outputs()[-10:]"
   ]
  },
  {
   "cell_type": "code",
   "execution_count": null,
   "metadata": {},
   "outputs": [],
   "source": [
    "filters_stem_conv0 = arg_params['stem_conv0_weight'].asnumpy().sum(axis=1)\n",
    "filters_stem_conv0.shape"
   ]
  },
  {
   "cell_type": "code",
   "execution_count": null,
   "metadata": {},
   "outputs": [],
   "source": [
    "f0_sym = all_layers['stem_leakyrelu0_fwd_output']\n",
    "f0_mod = mx.mod.Module(symbol=f0_sym, context=ctx, label_names=None)\n",
    "f0_mod.bind(for_training=False, data_shapes=[('data', input_shape)])\n",
    "f0_mod.set_params(arg_params, aux_params)\n",
    "f0_act_maps = predict(f0_mod, x_test[img_idx])"
   ]
  },
  {
   "cell_type": "code",
   "execution_count": null,
   "metadata": {},
   "outputs": [],
   "source": [
    "plt.imshow(f0_act_maps[0], cmap='Blues_r')\n",
    "plt.colorbar()"
   ]
  },
  {
   "cell_type": "code",
   "execution_count": null,
   "metadata": {},
   "outputs": [],
   "source": [
    "first_kernel = arg_params['stem_conv0_weight'][0].asnumpy()"
   ]
  },
  {
   "cell_type": "code",
   "execution_count": null,
   "metadata": {},
   "outputs": [],
   "source": [
    "def apply_def(filename):\n",
    "    if export_plots is True:\n",
    "        plt.savefig('./plots/%s.png'%filename, bbox='tight')\n",
    "        plt.savefig('./plots/%s.pdf'%filename, bbox='tight')\n",
    "        plt.savefig('./plots/%s.svg'%filename, bbox='tight')\n",
    "    plt.show()"
   ]
  },
  {
   "cell_type": "code",
   "execution_count": null,
   "metadata": {},
   "outputs": [],
   "source": [
    "def plot_multi_dim_array(dim_array, cmap='viridis', title='', flipud=True, ax_captions=None, top=0.95,\n",
    "                         use_global_cmap=False, filename=None):\n",
    "    \n",
    "    # we sum up all value in order to represent all channel values\n",
    "    #dim_array = arg_params[layer_name].asnumpy().sum(axis=1)\n",
    "\n",
    "    nb_filters = dim_array.shape[0]\n",
    "    \n",
    "    # define the cell width and height based on the total number of filters\n",
    "    grid_width = math.ceil(math.sqrt(nb_filters))\n",
    "    # we choose a square layout\n",
    "    grid_hight = grid_width\n",
    "    \n",
    "    fig = plt.figure(figsize=(16,16))\n",
    "    #plt.title(title)\n",
    "    #plt.title(\"Filters - Layer %s[%d]\" % (layer_name, nb_filters))\n",
    "    \n",
    "    subplot_num = int(np.ceil(np.sqrt(nb_filters)))\n",
    "    \n",
    "    w_min = dim_array.min()\n",
    "    w_max = dim_array.max()\n",
    "        \n",
    "    if ax_captions is not None:\n",
    "        assert len(ax_captions) == len(dim_array)\n",
    "            \n",
    "    axes = []\n",
    "    for i in range(nb_filters):\n",
    "        ax = fig.add_subplot(subplot_num, subplot_num, i+1)\n",
    "        # Only plot the valid filter-weights.\n",
    "        \n",
    "        axes.append(ax)\n",
    "        \n",
    "        if i<nb_filters:\n",
    "            # Get the weights for the i'th filter of the input channel.\n",
    "            # See new_conv_layer() for details on the format\n",
    "            # of this 4-dim tensor.\n",
    "            img = dim_array[i, :, :]\n",
    "\n",
    "        img = img.squeeze()\n",
    "        if flipud is True:\n",
    "            img = np.flipud(img)\n",
    "            \n",
    "        if use_global_cmap is True:\n",
    "            # use a global cmap range for all images\n",
    "            im = ax.imshow(img, cmap=cmap, interpolation='nearest', vmin=w_min, vmax=w_max)\n",
    "        else:\n",
    "            # calculate the cmap individually for each image\n",
    "            ax.imshow(img, cmap=cmap, interpolation='nearest')\n",
    "\n",
    "        if ax_captions is not None:\n",
    "            ax.set_title(ax_captions[i])\n",
    "        plt.xticks([])\n",
    "        plt.yticks([])\n",
    "        plt.tight_layout()\n",
    "\n",
    "    # the title must be shifted when using tight layout\n",
    "    fig.subplots_adjust(top=top)        \n",
    "    fig.suptitle(title, fontsize=16)\n",
    "    \n",
    "    if use_global_cmap is True:\n",
    "        fig.colorbar(im, ax=axes)\n",
    "        \n",
    "    if filename is not None:\n",
    "        apply_def(filename)"
   ]
  },
  {
   "cell_type": "code",
   "execution_count": null,
   "metadata": {},
   "outputs": [],
   "source": [
    "board\n",
    "board.pockets"
   ]
  },
  {
   "cell_type": "code",
   "execution_count": null,
   "metadata": {},
   "outputs": [],
   "source": [
    "ax_captions = [\n",
    "    'white pawns', 'white knights', 'white bishops', 'white rooks', 'white queens', 'white kings',\n",
    "    'black pawns', 'black knights', 'black bishops', 'black rooks', 'black queens', 'black kings',\n",
    "    'repetition 1', 'repetition 2',\n",
    "    'white pocket pawns', 'white pocket knights', 'white pocket bishops', 'white pocket rooks', 'white pocket queens',\n",
    "    'black pocket pawns', 'black pocket knights', 'black pocket bishops', 'black pocket rooks', 'black pocket queens',\n",
    "    'white promoted pawns', 'black promoted pawns',\n",
    "    'en-passant square',\n",
    "    'current turn colour',\n",
    "    'total move count',\n",
    "    'white castling kings-side', 'white castling queen-side',\n",
    "    'black castling kings-side', 'black castling queen-side',\n",
    "    'no-progress count'\n",
    "]"
   ]
  },
  {
   "cell_type": "code",
   "execution_count": null,
   "metadata": {},
   "outputs": [],
   "source": [
    "board.fen()"
   ]
  },
  {
   "cell_type": "code",
   "execution_count": null,
   "metadata": {},
   "outputs": [],
   "source": [
    "title = 'Input representation channels: %s\\nBoard fen: %s' % (x_test[img_idx].shape, board.fen())\n",
    "plot_multi_dim_array(x_test[img_idx], ax_captions=ax_captions, cmap='gray_r', title=title, top=0.9,\n",
    "                     use_global_cmap=True, filename='input_channels')"
   ]
  },
  {
   "cell_type": "code",
   "execution_count": null,
   "metadata": {},
   "outputs": [],
   "source": [
    "title = 'Activation maps after first conv-layer: ' + str(f0_act_maps.shape)\n",
    "plot_multi_dim_array(f0_act_maps, cmap='Blues_r', title=title, filename='first_act_maps')"
   ]
  },
  {
   "cell_type": "code",
   "execution_count": null,
   "metadata": {},
   "outputs": [],
   "source": [
    "plot_multi_dim_array(first_kernel, use_global_cmap=True,\n",
    "                     title='First kernel filter of first conv-layer: ' + str(first_kernel.shape),\n",
    "                     filename='first_kernel')"
   ]
  },
  {
   "cell_type": "code",
   "execution_count": null,
   "metadata": {},
   "outputs": [],
   "source": [
    "plt.imshow(first_kernel[0], cmap='viridis', interpolation='nearest')\n",
    "plt.colorbar()"
   ]
  },
  {
   "cell_type": "code",
   "execution_count": null,
   "metadata": {},
   "outputs": [],
   "source": [
    "export_plots = False"
   ]
  },
  {
   "cell_type": "code",
   "execution_count": null,
   "metadata": {},
   "outputs": [],
   "source": [
    "def show_filters(layer_name):\n",
    "    \n",
    "    # we sum up all value in order to represent all channel values\n",
    "    filter_values = arg_params[layer_name].asnumpy().sum(axis=1)\n",
    "\n",
    "    nb_filters = filter_values.shape[0]\n",
    "    \n",
    "    print(filter_values.shape)\n",
    "        \n",
    "    # define the cell width and height based on the total number of filters\n",
    "    grid_width = math.ceil(math.sqrt(nb_filters))\n",
    "    # we choose a square layout\n",
    "    grid_hight = grid_width\n",
    "    \n",
    "    fig = plt.figure(figsize=(16,16))\n",
    "    plt.title(\"Filters - Layer %s[%d]\" % (layer_name, nb_filters))\n",
    "\n",
    "    subplot_num = int(np.ceil(np.sqrt(nb_filters)))\n",
    "    for i in range(nb_filters):\n",
    "        ax = fig.add_subplot(subplot_num, subplot_num, i+1)\n",
    "    #    # Only plot the valid filter-weights.\n",
    "        if i<nb_filters:\n",
    "            # Get the weights for the i'th filter of the input channel.\n",
    "            # See new_conv_layer() for details on the format\n",
    "            # of this 4-dim tensor.\n",
    "            img = filter_values[i, :, :]\n",
    "\n",
    "        ax.imshow(img.squeeze(), cmap='viridis', interpolation='nearest') #, cmap='gray_r') vmin=w_min, vmax=w_max,   \n",
    "        plt.xticks([])\n",
    "        plt.yticks([])\n",
    "        plt.tight_layout()\n",
    "\n",
    "    strExport = 'filters_' + layer_name\n",
    "    if export_plots is True:\n",
    "        plt.savefig(strExport + '.png', bbox_inches='tight')\n",
    "        plt.savefig(strExport + '.pdf', bbox_inches='tight')\n",
    "\n",
    "    # Ensure the plot is shown correctly with multiple plots\n",
    "    # in a single Notebook cell.\n",
    "    plt.show()"
   ]
  },
  {
   "cell_type": "code",
   "execution_count": null,
   "metadata": {},
   "outputs": [],
   "source": [
    "layer_name = 'stem_conv0_weight'\n",
    "filter_values = arg_params[layer_name].asnumpy().sum(axis=1)\n",
    "title = 'Kernel filter of first conv-layer - summed across axis=1 : ' + str(filter_values.shape)\n",
    "plot_multi_dim_array(filter_values, cmap='viridis', filename='kernels_first_conv_layer', title=title, flipud=False)"
   ]
  },
  {
   "cell_type": "code",
   "execution_count": null,
   "metadata": {},
   "outputs": [],
   "source": [
    "ctx = mx.cpu()"
   ]
  },
  {
   "cell_type": "code",
   "execution_count": null,
   "metadata": {},
   "outputs": [],
   "source": [
    "input_shape = (1, x_test.shape[1], x_test.shape[2], x_test.shape[3])"
   ]
  },
  {
   "cell_type": "code",
   "execution_count": null,
   "metadata": {},
   "outputs": [],
   "source": [
    "f_final_sym = all_layers['unitX11__plus0_output']\n",
    "f_final_mod = mx.mod.Module(symbol=f_final_sym, context=ctx, label_names=None)\n",
    "f_final_mod.bind(for_training=False, data_shapes=[('data', input_shape)])\n",
    "f_final_mod.set_params(arg_params, aux_params)"
   ]
  },
  {
   "cell_type": "code",
   "execution_count": null,
   "metadata": {},
   "outputs": [],
   "source": [
    "f_final_act_maps = predict(feature_mod, x_test[img_idx])"
   ]
  },
  {
   "cell_type": "code",
   "execution_count": null,
   "metadata": {},
   "outputs": [],
   "source": [
    "title = 'Activation maps after residual tower: ' + str(f_final_act_maps.shape)\n",
    "plot_multi_dim_array(f_final_act_maps, cmap='Blues_r', title=title, filename='res_tower_act_maps')"
   ]
  },
  {
   "cell_type": "code",
   "execution_count": null,
   "metadata": {},
   "outputs": [],
   "source": [
    "f_final_act_maps.shape"
   ]
  },
  {
   "cell_type": "code",
   "execution_count": null,
   "metadata": {},
   "outputs": [],
   "source": [
    "plt.imshow(f_act_maps[30], cmap='Blues_r')\n",
    "plt.colorbar()"
   ]
  },
  {
   "cell_type": "code",
   "execution_count": null,
   "metadata": {},
   "outputs": [],
   "source": [
    "input_shape = (1,34,8,8)"
   ]
  },
  {
   "cell_type": "code",
   "execution_count": null,
   "metadata": {},
   "outputs": [],
   "source": [
    "p_sym = all_layers['policy_%s0_fwd_output' % activation]\n",
    "p_mod = mx.mod.Module(symbol=p_sym, context=ctx, label_names=None)\n",
    "p_mod.bind(for_training=False, data_shapes=[('data', input_shape)])\n",
    "p_mod.set_params(arg_params, aux_params)"
   ]
  },
  {
   "cell_type": "code",
   "execution_count": null,
   "metadata": {},
   "outputs": [],
   "source": [
    "v_sym = all_layers['value_%s0_fwd_output' % activation]\n",
    "v_mod = mx.mod.Module(symbol=v_sym, context=ctx, label_names=None)\n",
    "v_mod.bind(for_training=False, data_shapes=[('data', input_shape)])\n",
    "v_mod.set_params(arg_params, aux_params)"
   ]
  },
  {
   "cell_type": "code",
   "execution_count": null,
   "metadata": {},
   "outputs": [],
   "source": [
    "# define a simple data batch\n",
    "from collections import namedtuple\n",
    "Batch = namedtuple('Batch', ['data'])"
   ]
  },
  {
   "cell_type": "code",
   "execution_count": null,
   "metadata": {},
   "outputs": [],
   "source": [
    "def predict(mod, img_np_single):\n",
    "    mod.forward(Batch(mx.nd.array([np.expand_dims(img_np_single, axis=0)])))\n",
    "    act_maps = mod.get_outputs()[0]\n",
    "    \n",
    "    return act_maps[0].asnumpy()"
   ]
  },
  {
   "cell_type": "markdown",
   "metadata": {},
   "source": [
    "#symbol_file = '/media/queensgambit/TOSHIBA/etc/Deep_ML/project/symbol/' + 'mxnet_model-symbol.json'\n",
    "#sym_init = mx.symbol.load(symbol_file)\n",
    "net = gluon.nn.SymbolBlock(outputs=sym, inputs=mx.sym.var(data_name))\n",
    "# Set the params\n",
    "net_params = net.collect_params()\n",
    "for param in arg_params:\n",
    "    if param in net_params:\n",
    "        # print(param)\n",
    "        net_params[param]._load_init(arg_params[param], ctx=ctx)\n",
    "for param in aux_params:\n",
    "    if param in net_params:\n",
    "        # print(param)\n",
    "        net_params[param]._load_init(aux_params[param], ctx=ctx)"
   ]
  },
  {
   "cell_type": "code",
   "execution_count": null,
   "metadata": {},
   "outputs": [],
   "source": [
    "import chess.svg\n",
    "from IPython.display import SVG, HTML\n",
    "from IPython.core.interactiveshell import InteractiveShell\n",
    "InteractiveShell.ast_node_interactivity = \"all\""
   ]
  },
  {
   "cell_type": "code",
   "execution_count": null,
   "metadata": {},
   "outputs": [],
   "source": [
    "cmap = plt.get_cmap('coolwarm_r')"
   ]
  },
  {
   "cell_type": "code",
   "execution_count": null,
   "metadata": {},
   "outputs": [],
   "source": [
    "def show_piece_legend():\n",
    "    import matplotlib.patches as mpatches\n",
    "    import matplotlib.pyplot as plt\n",
    "    handles = []\n",
    "    for player in ['white', 'black']:\n",
    "        for piece in PIECES_VALUE:\n",
    "            print(cmap(PIECES_VALUE[piece]))\n",
    "            if player == 'white':\n",
    "                handles.append(mpatches.Patch(color=cmap((PIECES_VALUE[piece]+7.5)/15), label=piece))\n",
    "            else:\n",
    "                handles.append(mpatches.Patch(color=cmap((7.5-(PIECES_VALUE[piece]))/15), label=piece.lower()))\n",
    "\n",
    "        plt.legend(handles=handles, bbox_to_anchor=(1.25, 1.00))"
   ]
  },
  {
   "cell_type": "code",
   "execution_count": null,
   "metadata": {},
   "outputs": [],
   "source": [
    "for i in range(11):\n",
    "    plt.imshow(get_plane_vis(x_test[i]), cmap='coolwarm_r')\n",
    "    plt.xticks(np.arange(8), ('a', 'b', 'c', 'd', 'e', 'f', 'g', 'h'))\n",
    "    plt.yticks(np.arange(8), ('8', '7', '6', '5', '4', '3', '2', '1'))\n",
    "    show_piece_legend()\n",
    "    plt.show()    \n",
    "    board = planes_to_board(x_test[i], normalized_input=normalize)\n",
    "    if board.turn == chess.BLACK:\n",
    "        board = board.mirror()\n",
    "    SVG(data=chess.svg.board(board=board, size=250))"
   ]
  },
  {
   "cell_type": "code",
   "execution_count": null,
   "metadata": {},
   "outputs": [],
   "source": [
    "#img_idx = 10\n",
    "img_idx = 42\n",
    "#img_idx = 60\n",
    "opts = 10"
   ]
  },
  {
   "cell_type": "code",
   "execution_count": null,
   "metadata": {},
   "outputs": [],
   "source": [
    "board = planes_to_board(x_test[img_idx], normalized_input=normalize)\n",
    "board"
   ]
  },
  {
   "cell_type": "code",
   "execution_count": null,
   "metadata": {},
   "outputs": [],
   "source": [
    "img_single = mx.nd.array([x_test[img_idx]])\n",
    "val, policy = net(img_single)\n",
    "candidate_moves, probs = policy_to_moves(board, policy.asnumpy().flatten())\n",
    "candidate_moves[:opts]"
   ]
  },
  {
   "cell_type": "code",
   "execution_count": null,
   "metadata": {},
   "outputs": [],
   "source": [
    "val.asnumpy()[0][0]"
   ]
  },
  {
   "cell_type": "code",
   "execution_count": null,
   "metadata": {},
   "outputs": [],
   "source": [
    "p_act_maps = predict(p_mod, x_test[img_idx])\n",
    "print('Shape',p_act_maps.shape)\n",
    "v_act_maps = predict(v_mod, x_test[img_idx])\n",
    "print('Shape',v_act_maps.shape)"
   ]
  },
  {
   "cell_type": "code",
   "execution_count": null,
   "metadata": {},
   "outputs": [],
   "source": [
    "title = 'Value activation maps: ' + str(v_act_maps.shape) + '\\nPredicted value: %.3f' % val.asnumpy()[0][0]\n",
    "plot_multi_dim_array(v_act_maps, cmap='inferno', title=title, filename='value_act_maps', use_global_cmap=True)"
   ]
  },
  {
   "cell_type": "code",
   "execution_count": null,
   "metadata": {},
   "outputs": [],
   "source": [
    "#plt.imshow(np.flipud(v_act_maps[0]), cmap='inferno', alpha=.5)\n",
    "plt.imshow(np.flipud(v_act_maps.sum(axis=0)), cmap='inferno', alpha=.5)\n",
    "plt.colorbar()\n",
    "plt.xticks([])\n",
    "plt.yticks([])\n",
    "plt.savefig('value_0.svg', transparent=True)"
   ]
  },
  {
   "cell_type": "code",
   "execution_count": null,
   "metadata": {},
   "outputs": [],
   "source": [
    "title = 'Policy activation maps: ' + str(p_act_maps.shape)\n",
    "plot_multi_dim_array(p_act_maps, cmap='Blues_r', title=title, filename='policy_act_maps', use_global_cmap=True)"
   ]
  },
  {
   "cell_type": "code",
   "execution_count": null,
   "metadata": {},
   "outputs": [],
   "source": [
    "plt.imshow(np.flipud(p_act_maps[0]),  cmap='Blues_r', alpha=.5)\n",
    "plt.colorbar()\n",
    "plt.xticks([])\n",
    "plt.yticks([])\n",
    "plt.savefig('policy_0.svg', transparent=True)"
   ]
  },
  {
   "cell_type": "code",
   "execution_count": null,
   "metadata": {},
   "outputs": [],
   "source": [
    "policy_to_move(policy.asnumpy(), is_white_to_move=True)\n",
    "#plt.imshow(np.flipud(p_act_maps[0]), cmap='Blues_r', alpha=.5)\n",
    "plt.imshow(np.flipud(p_act_maps.sum(axis=0)), cmap='Blues_r', alpha=.5)\n",
    "plt.colorbar()\n",
    "plt.xticks([])\n",
    "plt.yticks([])\n",
    "plt.savefig('policy_0.svg', transparent=True)"
   ]
  },
  {
   "cell_type": "code",
   "execution_count": null,
   "metadata": {},
   "outputs": [],
   "source": [
    "plt.imshow(np.flipud(p_act_maps[1]),  cmap='Blues_r', alpha=.5)\n",
    "plt.colorbar()\n",
    "plt.xticks([])\n",
    "plt.yticks([])\n",
    "plt.savefig('policy_1.svg', transparent=True)"
   ]
  },
  {
   "cell_type": "code",
   "execution_count": null,
   "metadata": {},
   "outputs": [],
   "source": [
    "plt.imshow(get_plane_vis(x_test[img_idx]), cmap='coolwarm_r')\n",
    "plt.xticks(np.arange(8), ('a', 'b', 'c', 'd', 'e', 'f', 'g', 'h'))\n",
    "plt.yticks(np.arange(8), ('8', '7', '6', '5', '4', '3', '2', '1'))\n",
    "show_piece_legend()\n",
    "plt.tight_layout()\n",
    "apply_def('board_pseudo_color')\n",
    "plt.show()\n",
    "board = planes_to_board(x_test[img_idx], normalized_input=normalize)\n",
    "if board.turn == chess.BLACK:\n",
    "    board = board.mirror()\n",
    "svg_board = SVG(data=chess.svg.board(board=board, size=380))"
   ]
  },
  {
   "cell_type": "markdown",
   "metadata": {},
   "source": [
    "### Save chess board to .svg file"
   ]
  },
  {
   "cell_type": "code",
   "execution_count": null,
   "metadata": {},
   "outputs": [],
   "source": [
    "svg_board_string = svg_board._repr_svg_()\n",
    "with open(\"plots/board.svg\", \"w\") as text_file:\n",
    "    text_file.write(svg_board_string)"
   ]
  },
  {
   "cell_type": "code",
   "execution_count": null,
   "metadata": {},
   "outputs": [],
   "source": [
    "plt.imshow(get_plane_vis(x_test[0]), cmap='coolwarm_r')\n",
    "plt.xticks(np.arange(8), ('a', 'b', 'c', 'd', 'e', 'f', 'g', 'h'))\n",
    "plt.yticks(np.arange(8), ('8', '7', '6', '5', '4', '3', '2', '1'))\n",
    "show_piece_legend()\n",
    "plt.tight_layout()\n",
    "apply_def('board_pseudo_color_start')\n",
    "plt.show()\n",
    "board = planes_to_board(x_test[0], normalized_input=normalize)\n",
    "if board.turn == chess.BLACK:\n",
    "    board = board.mirror()\n",
    "svg_board = SVG(data=chess.svg.board(board=board, size=380))\n",
    "svg_board_string = svg_board._repr_svg_()\n",
    "with open(\"plots/board_start.svg\", \"w\") as text_file:\n",
    "    text_file.write(svg_board_string)"
   ]
  },
  {
   "cell_type": "code",
   "execution_count": null,
   "metadata": {},
   "outputs": [],
   "source": [
    "def save_svg(svg_obj, filename):\n",
    "    if export_plots is True:\n",
    "        svg_board_string = svg_obj._repr_svg_()\n",
    "        with open(filename + '.svg', \"w\") as text_file:\n",
    "            text_file.write(svg_board_string)"
   ]
  },
  {
   "cell_type": "markdown",
   "metadata": {},
   "source": [
    "### Rearange the svg files"
   ]
  },
  {
   "cell_type": "code",
   "execution_count": null,
   "metadata": {},
   "outputs": [],
   "source": [
    "# https://stackoverflow.com/questions/31452451/importing-an-svg-file-a-matplotlib-figure\n",
    "import svgutils.compose as sc"
   ]
  },
  {
   "cell_type": "code",
   "execution_count": null,
   "metadata": {},
   "outputs": [],
   "source": [
    "# here starts the assembling using svgutils \n",
    "sc.Figure(\"13cm\", \"11cm\", \n",
    "    sc.Panel(sc.SVG('board.svg')),\n",
    "    sc.Panel(sc.SVG('policy_0.svg').scale(1.652).move(-152.5,-36))\n",
    "    ).save(\"plots/policy_overlay_old_1.svg\")\n",
    "policy_overlay = SVG('plots/policy_overlay_old_1.svg')\n",
    "policy_overlay"
   ]
  },
  {
   "cell_type": "code",
   "execution_count": null,
   "metadata": {},
   "outputs": [],
   "source": [
    "# here starts the assembling using svgutils \n",
    "sc.Figure(\"13cm\", \"11cm\", \n",
    "    sc.Panel(sc.SVG('board.svg')),\n",
    "    sc.Panel(sc.SVG('policy_1.svg').scale(1.652).move(-152.5,-36))\n",
    "    ).save(\"plots/policy_overlay_old_2.svg\")\n",
    "SVG('plots/policy_overlay_old_2.svg')"
   ]
  },
  {
   "cell_type": "code",
   "execution_count": null,
   "metadata": {},
   "outputs": [],
   "source": [
    "a = [1, 2, 3]"
   ]
  },
  {
   "cell_type": "code",
   "execution_count": null,
   "metadata": {},
   "outputs": [],
   "source": [
    "a[::-1]"
   ]
  },
  {
   "cell_type": "markdown",
   "metadata": {},
   "source": [
    "## Matrix view"
   ]
  },
  {
   "cell_type": "code",
   "execution_count": null,
   "metadata": {},
   "outputs": [],
   "source": [
    "for row in v_act_maps[0][::-1]:\n",
    "    for entry in row:\n",
    "        print(\"%02.2f\" % entry, end=\"\\t\")\n",
    "    print()"
   ]
  },
  {
   "cell_type": "code",
   "execution_count": null,
   "metadata": {},
   "outputs": [],
   "source": [
    "entry"
   ]
  },
  {
   "cell_type": "code",
   "execution_count": null,
   "metadata": {},
   "outputs": [],
   "source": [
    "value_overlay = sc.Figure(\"13cm\", \"11cm\", \n",
    "    sc.Panel(sc.SVG('board.svg')),\n",
    "    sc.Panel(sc.SVG('value_0.svg').scale(1.652).move(-152.5,-36))\n",
    "    ).save(\"plots/value_overlay.svg\")\n",
    "SVG('plots/value_overlay.svg')"
   ]
  },
  {
   "cell_type": "code",
   "execution_count": null,
   "metadata": {},
   "outputs": [],
   "source": [
    "board"
   ]
  },
  {
   "cell_type": "code",
   "execution_count": null,
   "metadata": {},
   "outputs": [],
   "source": [
    "pgn_dataset_test.tree()"
   ]
  },
  {
   "cell_type": "code",
   "execution_count": null,
   "metadata": {},
   "outputs": [],
   "source": [
    "metadata = np.array(pgn_dataset_test['metadata'])\n",
    "site_mate = metadata[1:, 1]"
   ]
  },
  {
   "cell_type": "code",
   "execution_count": null,
   "metadata": {},
   "outputs": [],
   "source": [
    "def clean_string(np_string, i):\n",
    "    string = str(site_mate[i]).replace(\"b'\", \"\")\n",
    "    string = string.replace(\"'\", \"\")\n",
    "    string = string.replace('\"', '')\n",
    "    \n",
    "    return string"
   ]
  },
  {
   "cell_type": "code",
   "execution_count": null,
   "metadata": {},
   "outputs": [],
   "source": [
    "arrows = []\n",
    "print(clean_string(site[0], 0))\n",
    "\n",
    "for i in range(opts):\n",
    "    pred_arrow = chess.svg.Arrow(candidate_moves[i].from_square, candidate_moves[i].to_square)\n",
    "    arrows.append(pred_arrow)\n",
    "svg_arrows = SVG(data=chess.svg.board(board=board, arrows=arrows, size=400))\n",
    "svg_arrows\n",
    "save_svg(svg_arrows, 'plots/svg_arrows')"
   ]
  },
  {
   "cell_type": "code",
   "execution_count": null,
   "metadata": {},
   "outputs": [],
   "source": [
    "len(candidate_moves)"
   ]
  },
  {
   "cell_type": "code",
   "execution_count": null,
   "metadata": {},
   "outputs": [],
   "source": [
    "opts = 10\n",
    "plt.title('First %d candidate moves of %d legal moves' % (opts, len(candidate_moves)))\n",
    "#candidate_moves, probs = policy_to_moves(board, pred[1][0])\n",
    "plt.barh(range(opts)[::-1], probs[:opts])\n",
    "ax = plt.gca()\n",
    "ax.set_yticks(range(opts)[::-1])\n",
    "ax.set_yticklabels(candidate_moves)\n",
    "plt.xlabel('Move probability')\n",
    "plt.ylabel('Move description')\n",
    "apply_def('policy_distribution')"
   ]
  },
  {
   "cell_type": "code",
   "execution_count": null,
   "metadata": {},
   "outputs": [],
   "source": [
    "board_t = chess.variant.CrazyhouseBoard()"
   ]
  },
  {
   "cell_type": "code",
   "execution_count": null,
   "metadata": {},
   "outputs": [],
   "source": [
    "# https://lichess.org/Q9gzpyw5#58\n",
    "fen = 'r1b1b3/pppkNp2/3Pp3/3pP1R1/1n1P1Q2/3p2P1/1PPN1PPn/1K1R1B1r/Qpb w - - 58 30'\n",
    "\n",
    "# https://lichess.org/MAQwg9Su/black#51\n",
    "fen = '5r2/ppp2ppk/2np3p/3Bp3/4P1P1/3P1Pq1/PPP2RQ1/R5K1/BNNNprbb b - - 51 26'\n",
    "\n",
    "# https://lichess.org/4OWBHkTA#12\n",
    "fen = 'r1bq1rk1/ppp1bppp/2np1n2/4p3/2B1P3/2NP1N2/PPP2PPP/R1BQ1RK1/ w - - 12 7'\n",
    "fen =  'r1bqk1nr/ppppbppp/2n5/4p3/2B1P3/5N2/PPPP1PPP/RNBQK2R/ w KQkq - 6 4'\n",
    "\n",
    "\n",
    "# https://lichess.org/TuZlUUqS#64\n",
    "fen = '1r1k1b1r/pBppp1pp/2P2n2/4p3/2q1P1p1/2B5/PPPR1PPP/2K4R/Bqnnn w - - 64 33'\n",
    "\n",
    "# https://lichess.org/Ps3XLu5D#14\n",
    "fen = 'r1b1kbnr/ppp2ppp/2n1p3/6N1/4N1p1/4B3/PqP2PPP/R2QKB1R/Ppp w KQkq - 14 8'\n",
    "fen = 'r1b1kbnr/ppp2ppp/2n1p3/6N1/3qN1p1/8/PPP2PPP/R1BQKB1R/Pp w KQkq - 12 7'\n",
    "\n",
    "# https://lichess.org/Alp1XMb7#30\n",
    "fen = 'r4bnr/ppQbk1pp/3pp3/1Pq1n1N1/6p1/2P5/PPP2PPP/R1B1KB1R/pn w KQ - 30 16'\n",
    "fen = 'r4bnr/pp1bk1pp/4p3/1Pp1nqN1/5Bp1/2P5/PPP2PPP/R3KB1R/Qpn w KQ - 34 18'\n",
    "fen = 'r4b1r/pp1bk1pp/4p3/bPp1Nq2/2P1nBp1/2P1P3/PP2KPPP/n6R/Qrn w - - 60 31'\n",
    "\n",
    "# https://lichess.org/qfgMiARK/black#13\n",
    "fen = 'rn1qk2r/ppp2ppp/4p3/3p1b2/1b1PnB2/2NBP3/PPP1NPPP/R2Q1RK1/ b kq - 13 7'\n",
    "fen = 'rn3q2/ppp1kpRp/4p2B/5b1N/3Pp3/2P1P3/P1P2PPP/R2Q1RK1/Pnbbn b - - 31 16'\n",
    "\n",
    "# https://lichess.org/OstHUMKU/black#19\n",
    "fen = 'r2qkb1r/ppp2ppp/2n1p3/4Pb2/3Pp3/2P1B1N1/P1P3PP/R2QKB1R/NNp b KQkq - 19 10'\n",
    "fen = 'r2qkb1r/ppp2ppp/2n1p3/4PNB1/3Pp3/2p1B3/P1P4P/R2Q1BK1/PNNrp b kq - 29 15'\n",
    "fen = '3r1bNr/pppk1Ppp/4p3/4Pp2/4p3/2p1B3/P1Pp3P/1R1Q1BK1/NQnbnrp b - - 43 22'\n",
    "fen = '3r1bNr/pppk1Ppp/4p3/4Pp2/4p3/2p1BQ2/P1Pp3P/1R3BK1/NNQbnrp b - - 45 23'\n",
    "\n",
    "# https://lichess.org/AbrWTdjs#12\n",
    "fen = 'r1bqk2r/ppp1bppp/2n2n2/3p4/2BNP3/2N5/PPP2PPP/R1BQK2R/Pp w KQkq - 12 7'\n",
    "fen = 'r1bqk2r/p1p1bppp/2p5/3Nb2N/4P3/7p/PPP2PPP/R1BQK2R/NPPn w KQkq - 20 11'\n",
    "fen = 'r1bqk1r1/p1p1bppp/8/3PP2N/8/8/PPP1pPpP/R1BQK1R1/PBNPnn w Qq - 28 15'\n",
    "fen = 'r3k1r1/p1pqbppp/2n5/3PP2N/8/5n2/PPP1QPpP/R1BK2R1/PPNPbb w q - 38 20'\n",
    "fen = 'r5r1/p1pkb1p1/2n1p1B1/4P3/5P2/4P3/PPPn2pP/R2K2R1/Pnqnqpppbb w - - 64 33'\n",
    "\n",
    "# https://lichess.org/qg7zBWd4#20\n",
    "fen = 'r2B1rk1/ppp2ppp/2np4/2bBp3/4P1b1/3P1N2/PPP2PPP/R2n1RK1/NQq w - - 20 11'\n",
    "fen = 'r2B1rk1/ppp2ppp/2np4/2bBp3/4P3/3P1b2/PPP2PPP/3R1RK1/NNQnq w - - 22 12'\n",
    "fen = 'r2B1rk1/ppp2p1p/2np3p/2bBp1n1/4P3/3P1bQ1/PPP2PPP/3R1RK1/Nnq w - - 26 14'\n",
    "fen = 'r2n1r1k/ppp2p1p/3p1N1p/2bBp1n1/4P3/3P1PP1/PPP4P/3R1R1K/NBbqq w - - 34 18'\n",
    "\n",
    "# https://lichess.org/XKo4gKDG/black#44\n",
    "fen = 'rnQ5/ppp1bpb1/3n1kBb/3pNpp1/3P4/4p1P1/PPP2pPP/RN1Q1K1R/R w - - 44 23'\n",
    "fen = 'r7/ppp1b3/b2nk1Bb/3p1ppP/3P4/4p1P1/PPP1KpPP/RN1Q3R/nqnr w - - 62 32'\n",
    "fen = 'r7/ppp1b3/b2nk1Bb/3p1ppP/3P4/4pKP1/PPP2pPP/RN1Q3R/nqnr b - - 63 32'"
   ]
  },
  {
   "cell_type": "code",
   "execution_count": null,
   "metadata": {},
   "outputs": [],
   "source": [
    "board_t.set_fen(fen)# - - 59 30')"
   ]
  },
  {
   "cell_type": "code",
   "execution_count": null,
   "metadata": {},
   "outputs": [],
   "source": [
    "board_t"
   ]
  },
  {
   "cell_type": "code",
   "execution_count": null,
   "metadata": {},
   "outputs": [],
   "source": [
    "def predict_single(net, x):\n",
    "    \n",
    "    out = [None, None]\n",
    "    pred = net(mx.nd.array(np.expand_dims(x, axis=0), ctx=ctx))\n",
    "    pred[1] = pred[1].softmax()\n",
    "    out[0] = pred[0].asnumpy()\n",
    "    out[1] = pred[1].asnumpy()\n",
    "    \n",
    "    return out"
   ]
  },
  {
   "cell_type": "code",
   "execution_count": null,
   "metadata": {},
   "outputs": [],
   "source": [
    "val, policy = predict_single(net, x_blunder)"
   ]
  },
  {
   "cell_type": "code",
   "execution_count": null,
   "metadata": {},
   "outputs": [],
   "source": [
    "sel_moves, probs = policy_to_moves(board_t, policy[0])"
   ]
  },
  {
   "cell_type": "code",
   "execution_count": null,
   "metadata": {},
   "outputs": [],
   "source": [
    "probs"
   ]
  },
  {
   "cell_type": "code",
   "execution_count": null,
   "metadata": {},
   "outputs": [],
   "source": [
    "probs[:100]"
   ]
  },
  {
   "cell_type": "code",
   "execution_count": null,
   "metadata": {},
   "outputs": [],
   "source": [
    "sel_moves[:150]"
   ]
  },
  {
   "cell_type": "code",
   "execution_count": null,
   "metadata": {},
   "outputs": [],
   "source": [
    "board_t.pockets"
   ]
  },
  {
   "cell_type": "code",
   "execution_count": null,
   "metadata": {},
   "outputs": [],
   "source": [
    "# https://mxnet.incubator.apache.org/tutorials/vision/cnn_visualization.html\n",
    "from __future__ import print_function\n",
    "\n",
    "gradcam_file = \"gradcam.py\" \n",
    "base_url = \"https://raw.githubusercontent.com/indhub/mxnet/cnnviz/example/cnn_visualization/{}?raw=true\"\n",
    "mx.test_utils.download(base_url.format(gradcam_file), fname=gradcam_file)\n",
    "#import gradcam"
   ]
  },
  {
   "cell_type": "code",
   "execution_count": null,
   "metadata": {},
   "outputs": [],
   "source": [
    "def show_images(pred_str, images):\n",
    "    titles = [pred_str, 'Grad-CAM', 'Guided Grad-CAM', 'Saliency Map']\n",
    "    num_images = len(images)\n",
    "    fig=plt.figure(figsize=(15,15))\n",
    "    rows, cols = 1, num_images\n",
    "    for i in range(num_images):\n",
    "        fig.add_subplot(rows, cols, i+1)\n",
    "        plt.xlabel(titles[i])\n",
    "        plt.imshow(images[i], cmap='gray' if i==num_images-1 else None)\n",
    "    plt.show()"
   ]
  },
  {
   "cell_type": "code",
   "execution_count": null,
   "metadata": {},
   "outputs": [],
   "source": [
    "def run_inference(net, data):\n",
    "    out = net(data)\n",
    "    return int(out[1][0].asnumpy().argmax())"
   ]
  },
  {
   "cell_type": "code",
   "execution_count": null,
   "metadata": {},
   "outputs": [],
   "source": [
    "net(mx.nd.array(np.expand_dims(x_test[0], axis=0)))[1][0].asnumpy().argmax()"
   ]
  },
  {
   "cell_type": "code",
   "execution_count": null,
   "metadata": {},
   "outputs": [],
   "source": [
    "def visualize(net, x, conv_layer_name):\n",
    "    #orig_img = mx.img.imread(img_path)\n",
    "    #preprocessed_img = preprocess(orig_img)\n",
    "    #preprocessed_img = preprocessed_img.expand_dims(axis=0)\n",
    "    preprocessed_img = mx.nd.array(np.expand_dims(x, axis=0))\n",
    "    val_pred = run_inference(net, preprocessed_img)\n",
    "    \n",
    "    #orig_img = mx.image.imresize(orig_img, image_sz[0], image_sz[1]).asnumpy()\n",
    "    orig_img = get_plane_vis(x)\n",
    "    vizs = visualize_grad(net, preprocessed_img, orig_img, conv_layer_name)\n",
    "    return (val_pred, (orig_img, *vizs))"
   ]
  },
  {
   "cell_type": "code",
   "execution_count": null,
   "metadata": {},
   "outputs": [],
   "source": [
    "last_conv_layer_name = list(net.params.keys())[28]\n",
    "print(last_conv_layer_name)"
   ]
  },
  {
   "cell_type": "code",
   "execution_count": null,
   "metadata": {},
   "outputs": [],
   "source": [
    "from gradcam_custom import *"
   ]
  },
  {
   "cell_type": "code",
   "execution_count": null,
   "metadata": {},
   "outputs": [],
   "source": [
    "show_images(*visualize(net, x_test[0], last_conv_layer_name))"
   ]
  },
  {
   "cell_type": "code",
   "execution_count": null,
   "metadata": {},
   "outputs": [],
   "source": [
    "last_conv_layer_name = net.p_act_maps[28]._name\n",
    "print(last_conv_layer_name)"
   ]
  },
  {
   "cell_type": "code",
   "execution_count": null,
   "metadata": {},
   "outputs": [],
   "source": []
  }
 ],
 "metadata": {
  "kernelspec": {
   "display_name": "Python 3",
   "language": "python",
   "name": "python3"
  },
  "language_info": {
   "codemirror_mode": {
    "name": "ipython",
    "version": 3
   },
   "file_extension": ".py",
   "mimetype": "text/x-python",
   "name": "python",
   "nbconvert_exporter": "python",
   "pygments_lexer": "ipython3"
  }
 },
 "nbformat": 4,
 "nbformat_minor": 2
}
