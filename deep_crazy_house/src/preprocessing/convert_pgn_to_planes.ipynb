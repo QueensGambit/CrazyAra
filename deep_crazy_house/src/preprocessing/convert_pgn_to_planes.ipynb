{
 "cells": [
  {
   "cell_type": "markdown",
   "metadata": {},
   "source": [
    "# Deep Crazyhouse\n",
    "\n",
    "\n",
    "## Conversion of PGN files to Image-Plane Representation\n",
    "\n",
    "* file: convert_pgn_to_planes.ipynb\n",
    "* brief: Loads in a png-file from the lichess crazyhouse dataset and converts it to plane representation. The plane representations can later be used by a convolutional neural network.\n",
    "\n",
    "* author: QueensGambit\n",
    "* contact: johannes.czech@stud.tu-darmstadt.de\n",
    "* version: 2018-06-10 initial version"
   ]
  },
  {
   "cell_type": "code",
   "execution_count": null,
   "metadata": {},
   "outputs": [],
   "source": [
    "%load_ext autoreload\n",
    "%autoreload 2"
   ]
  },
  {
   "cell_type": "code",
   "execution_count": null,
   "metadata": {},
   "outputs": [],
   "source": [
    "%reload_ext autoreload"
   ]
  },
  {
   "cell_type": "code",
   "execution_count": null,
   "metadata": {},
   "outputs": [],
   "source": [
    "import sys, os\n",
    "sys.path.insert(0,'../../../../')\n",
    "import os\n",
    "import sys\n",
    "from DeepCrazyhouse.src.domain.preprocessing.PGN2PlanesConverter import PGN2PlanesConverter\n",
    "from DeepCrazyhouse.src.runtime import Colorer\n",
    "import logging"
   ]
  },
  {
   "cell_type": "markdown",
   "metadata": {},
   "source": [
    "## Settings"
   ]
  },
  {
   "cell_type": "code",
   "execution_count": null,
   "metadata": {},
   "outputs": [],
   "source": [
    "nb_games_per_file = 1000\n",
    "min_elo_both = 2000"
   ]
  },
  {
   "cell_type": "markdown",
   "metadata": {},
   "source": [
    "### Export the Train Games"
   ]
  },
  {
   "cell_type": "code",
   "execution_count": null,
   "metadata": {},
   "outputs": [],
   "source": [
    "PGN2PlanesConverter(limit_nb_games_to_analyze=0, nb_games_per_file=nb_games_per_file,\n",
    "                  max_nb_files=0, min_elo_both=min_elo_both, termination_conditions=[\"Normal\"], log_lvl=logging.DEBUG,\n",
    "                  compression='lz4', clevel=5, dataset_type='train').convert_all_pgns_to_planes()"
   ]
  },
  {
   "cell_type": "markdown",
   "metadata": {},
   "source": [
    "### Export the Validation Games"
   ]
  },
  {
   "cell_type": "code",
   "execution_count": null,
   "metadata": {},
   "outputs": [],
   "source": [
    "PGN2PlanesConverter(limit_nb_games_to_analyze=0, nb_games_per_file=nb_games_per_file,\n",
    "                  max_nb_files=1, min_elo_both=min_elo_both, termination_conditions=[\"Normal\"], log_lvl=logging.DEBUG,\n",
    "                  compression='lz4', clevel=5, dataset_type='val').convert_pgn_to_planes('lichess_db_crazyhouse_rated_2018-04.pgn')"
   ]
  },
  {
   "cell_type": "markdown",
   "metadata": {},
   "source": [
    "### Export the Test Games"
   ]
  },
  {
   "cell_type": "code",
   "execution_count": null,
   "metadata": {},
   "outputs": [],
   "source": [
    "PGN2PlanesConverter(limit_nb_games_to_analyze=0, nb_games_per_file=nb_games_per_file,\n",
    "                  max_nb_files=1, min_elo_both=min_elo_both, termination_conditions=[\"Normal\"], log_lvl=logging.DEBUG,\n",
    "                  compression='lz4', clevel=5, dataset_type='test').convert_pgn_to_planes('lichess_db_crazyhouse_rated_2018-08.pgn')"
   ]
  },
  {
   "cell_type": "markdown",
   "metadata": {},
   "source": [
    "### Export Mate in Ones"
   ]
  },
  {
   "cell_type": "code",
   "execution_count": null,
   "metadata": {},
   "outputs": [],
   "source": [
    "PGN2PlanesConverter(limit_nb_games_to_analyze=0, nb_games_per_file=nb_games_per_file,\n",
    "                      max_nb_files=1, min_elo_both=min_elo_both, termination_conditions=[\"Normal\"], log_lvl=logging.DEBUG,\n",
    "                      compression='lz4', clevel=5, dataset_type='mate_in_one').convert_pgn_to_planes('lichess_db_crazyhouse_rated_2018-04.pgn')"
   ]
  },
  {
   "cell_type": "code",
   "execution_count": null,
   "metadata": {},
   "outputs": [],
   "source": []
  }
 ],
 "metadata": {
  "kernelspec": {
   "display_name": "Python 3",
   "language": "python",
   "name": "python3"
  },
  "language_info": {
   "codemirror_mode": {
    "name": "ipython",
    "version": 3
   },
   "file_extension": ".py",
   "mimetype": "text/x-python",
   "name": "python",
   "nbconvert_exporter": "python",
   "pygments_lexer": "ipython3"
  }
 },
 "nbformat": 4,
 "nbformat_minor": 2
}
