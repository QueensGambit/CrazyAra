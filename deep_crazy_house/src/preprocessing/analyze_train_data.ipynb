{
 "cells": [
  {
   "cell_type": "markdown",
   "metadata": {},
   "source": [
    "# CrazyAra\n",
    "\n",
    "## Data Analysis of the Training Data\n",
    "\n",
    "* file: analyze_train_data.ipynb\n",
    "* brief: Filterts out the used games of lichess crazyhouse dataset and does some analysis on it.\n",
    "\n",
    "* author: QueensGambit\n",
    "* contact: johannes.czech@stud.tu-darmstadt.de\n",
    "* version: 2018-11-28 initial version\n"
   ]
  },
  {
   "cell_type": "code",
   "execution_count": null,
   "metadata": {},
   "outputs": [],
   "source": [
    "%load_ext autoreload\n",
    "%autoreload 2"
   ]
  },
  {
   "cell_type": "code",
   "execution_count": null,
   "metadata": {},
   "outputs": [],
   "source": [
    "%reload_ext autoreload"
   ]
  },
  {
   "cell_type": "code",
   "execution_count": null,
   "metadata": {},
   "outputs": [],
   "source": [
    "import sys, os\n",
    "sys.path.insert(0,'../../../')\n",
    "import os\n",
    "import sys\n",
    "from DeepCrazyhouse.src.preprocessing.PGN2PlanesConverter import PGN2PlanesConverter\n",
    "from DeepCrazyhouse.src.runtime.ColorLogger import enable_color_logging\n",
    "from DeepCrazyhouse.src.preprocessing.dataset_loader import load_pgn_dataset\n",
    "import logging\n",
    "from io import StringIO\n",
    "import matplotlib.pyplot as plt\n",
    "import seaborn as sns\n",
    "import chess.pgn\n",
    "import pandas as pd\n",
    "import numpy as np"
   ]
  },
  {
   "cell_type": "code",
   "execution_count": null,
   "metadata": {},
   "outputs": [],
   "source": [
    "%matplotlib inline\n",
    "plt.style.use('seaborn-whitegrid')\n",
    "enable_color_logging()"
   ]
  },
  {
   "cell_type": "markdown",
   "metadata": {},
   "source": [
    "## Settings\n",
    "_same as_ `convert_pgn_to_planes.ipynb`"
   ]
  },
  {
   "cell_type": "code",
   "execution_count": null,
   "metadata": {},
   "outputs": [],
   "source": [
    "min_elo_both = 2000\n",
    "nb_games_per_file = 1000"
   ]
  },
  {
   "cell_type": "code",
   "execution_count": null,
   "metadata": {},
   "outputs": [],
   "source": [
    "s_idcs, x, yv, yp, pgn_dataset = load_pgn_dataset()"
   ]
  },
  {
   "cell_type": "code",
   "execution_count": null,
   "metadata": {},
   "outputs": [],
   "source": [
    "pgn_dataset.tree()"
   ]
  },
  {
   "cell_type": "code",
   "execution_count": null,
   "metadata": {},
   "outputs": [],
   "source": [
    "converter = PGN2PlanesConverter(limit_nb_games_to_analyze=0, nb_games_per_file=nb_games_per_file,\n",
    "                  max_nb_files=0, min_elo_both=min_elo_both, termination_conditions=[\"Normal\"], log_lvl=logging.DEBUG,\n",
    "                  compression='lz4', clevel=5, dataset_type='train')"
   ]
  },
  {
   "cell_type": "code",
   "execution_count": null,
   "metadata": {},
   "outputs": [],
   "source": [
    "lst_all_pgn_sel, lst_nb_games_sel, lst_batch_white_won, lst_batch_black_won, lst_batch_draw = converter.filter_all_pgns()"
   ]
  },
  {
   "cell_type": "code",
   "execution_count": null,
   "metadata": {},
   "outputs": [],
   "source": [
    "sum(lst_nb_games_sel)"
   ]
  },
  {
   "cell_type": "code",
   "execution_count": null,
   "metadata": {},
   "outputs": [],
   "source": [
    "file = open('crazyara_lichess_dataset.pgn', mode='w')"
   ]
  },
  {
   "cell_type": "code",
   "execution_count": null,
   "metadata": {},
   "outputs": [],
   "source": [
    "for pgn_sel in lst_all_pgn_sel:\n",
    "    for pgn in pgn_sel:\n",
    "        file.writelines(pgn.readlines())"
   ]
  },
  {
   "cell_type": "code",
   "execution_count": null,
   "metadata": {},
   "outputs": [],
   "source": [
    "file.close()"
   ]
  },
  {
   "cell_type": "code",
   "execution_count": null,
   "metadata": {},
   "outputs": [],
   "source": [
    "pgn = open('crazyara_lichess_dataset.pgn')\n"
   ]
  },
  {
   "cell_type": "code",
   "execution_count": null,
   "metadata": {},
   "outputs": [],
   "source": [
    "columns=['Event','Site','Date','Round','White','Black','Result', 'WhiteElo', 'BlackElo', 'WhiteRatingDiff', 'BlackRatingDiff', 'Termination', 'TimeControl', 'UTCDate', 'UTCTime', 'Variant']"
   ]
  },
  {
   "cell_type": "code",
   "execution_count": null,
   "metadata": {},
   "outputs": [],
   "source": [
    "nb_games"
   ]
  },
  {
   "cell_type": "code",
   "execution_count": null,
   "metadata": {},
   "outputs": [],
   "source": [
    "len(lst_all_pgn_sel[0])"
   ]
  },
  {
   "cell_type": "code",
   "execution_count": null,
   "metadata": {},
   "outputs": [],
   "source": [
    "len(df)"
   ]
  },
  {
   "cell_type": "markdown",
   "metadata": {},
   "source": [
    "## Fill the pandas dataframe"
   ]
  },
  {
   "cell_type": "code",
   "execution_count": null,
   "metadata": {},
   "outputs": [],
   "source": [
    "# this list contains the full data of the pandas table\n",
    "data = []\n",
    "\n",
    "# read the first game\n",
    "game = chess.pgn.read_game(pgn)\n",
    "\n",
    "\n",
    "# read in all games one by one\n",
    "for offset, headers in chess.pgn.scan_headers(pgn):\n",
    "#while game is not None:\n",
    "    row = []\n",
    "    # iterate over all collumns\n",
    "    for colname in columns:\n",
    "        # fill one row of data\n",
    "        try:\n",
    "            row.append(headers[colname])\n",
    "        except KeyError:\n",
    "            # add empty value if entry is missing\n",
    "            row.append([])\n",
    "            print(headers)\n",
    "    # add the row to the full table content\n",
    "    data.append(row)\n",
    "    # read in the next game\n",
    "    #game = chess.pgn.read_game_h(pgn)\n",
    "                "
   ]
  },
  {
   "cell_type": "code",
   "execution_count": null,
   "metadata": {},
   "outputs": [],
   "source": [
    "pgn.close()"
   ]
  },
  {
   "cell_type": "code",
   "execution_count": null,
   "metadata": {},
   "outputs": [],
   "source": [
    "df = pd.DataFrame(data, columns=columns)"
   ]
  },
  {
   "cell_type": "markdown",
   "metadata": {},
   "source": [
    "## Export the dataframe"
   ]
  },
  {
   "cell_type": "code",
   "execution_count": null,
   "metadata": {},
   "outputs": [],
   "source": [
    "df.to_csv('crazyara_lichess_dataset_stats.csv')"
   ]
  },
  {
   "cell_type": "markdown",
   "metadata": {},
   "source": [
    "### Load the dataframe"
   ]
  },
  {
   "cell_type": "code",
   "execution_count": null,
   "metadata": {},
   "outputs": [],
   "source": [
    "df = pd.DataFrame.from_csv('data/crazyara_lichess_dataset_stats.csv')"
   ]
  },
  {
   "cell_type": "code",
   "execution_count": null,
   "metadata": {},
   "outputs": [],
   "source": [
    "df_full = pd.concat([df['White'], df['Black']])"
   ]
  },
  {
   "cell_type": "code",
   "execution_count": null,
   "metadata": {},
   "outputs": [],
   "source": [
    "((df_full.value_counts()[:10] / len(df)) * 100).round(2)"
   ]
  },
  {
   "cell_type": "code",
   "execution_count": null,
   "metadata": {},
   "outputs": [],
   "source": [
    "elo = np.concatenate((df['WhiteElo'].values, df['BlackElo'].values))"
   ]
  },
  {
   "cell_type": "code",
   "execution_count": null,
   "metadata": {},
   "outputs": [],
   "source": [
    "elo.astype(np.float)"
   ]
  },
  {
   "cell_type": "code",
   "execution_count": null,
   "metadata": {},
   "outputs": [],
   "source": [
    "len(elo[-5000:])"
   ]
  },
  {
   "cell_type": "code",
   "execution_count": null,
   "metadata": {},
   "outputs": [],
   "source": [
    "def example_plot(ax, fontsize=12):\n",
    "     ax.plot([1, 2])\n",
    "     ax.locator_params(nbins=3)\n",
    "     ax.set_xlabel('x-label', fontsize=fontsize)\n",
    "     ax.set_ylabel('y-label', fontsize=fontsize)\n",
    "     ax.set_title('Title', fontsize=fontsize)\n",
    "        \n",
    "plt.close('all')\n",
    "fig = plt.figure(figsize=(10*1.5,8*1.5))\n",
    "\n",
    "ax1 = plt.subplot(211)\n",
    "ax2 = plt.subplot(425)\n",
    "ax3 = plt.subplot(224)\n",
    "ax4 = plt.subplot(427)\n",
    "\n",
    "top_x = 20\n",
    "cum_perc = df_full.value_counts()[:top_x].sum() / len(df) * 100\n",
    "\n",
    "plt.suptitle(\"CrazyAra's Traing Data\\n569,537 Games total (%.2f\" % cum_perc + \"% \" + \"by %d players)\" % top_x, y=1.05, size=20)\n",
    "\n",
    "#ax = (df_full.value_counts()[:20][::-1] / len(df) * 100).plot('barh', title=\"CrazyAra's Traing Data\")\n",
    "ax = (df_full.value_counts()[:top_x][::-1]).plot('barh', title=\"\\nTop %d Active Crazyhouse-Players with Matches >= 2,000 elo for both Players\\nfrom January 2016 to June 2018 (database.lichess.org/)\" % top_x, ax=ax1)\n",
    "ax.set_xlabel(\"Number of Games\")\n",
    "#ax.set_ylabel(\"Crazyhouse Players on lichess.org\")\n",
    "\n",
    "ax2.hist(elo[-5000000:])\n",
    "ax2.axvline(x=elo.mean(), linewidth=2, color='lightblue')\n",
    "ax2.text(elo.mean() + elo.mean()*.02,5000000 / 20, \"mean=%.2f\" % elo.mean(), fontsize=12)\n",
    "ax2.set_title(\"Elo Rating\")\n",
    "ax2.set_xlabel(\"Rating\")\n",
    "\n",
    "#example_plot(ax1)\n",
    "#example_plot(ax2)\n",
    "#example_plot(ax3)\n",
    "\n",
    "df['TimeControl'].value_counts()[:15][::-1].plot('barh', title='Time Control', ax=ax3)\n",
    "ax3.set_xlabel(\"Number of Games\")\n",
    "\n",
    "df['Result'].value_counts()[::-1].plot('barh', ax=ax4)\n",
    "ax4.set_title('Game Results')\n",
    "ax4.set_xlabel(\"Number of Games\")\n",
    "\n",
    "plt.tight_layout()\n",
    "\n",
    "plt.savefig(\"plots/crazyara_training_data.png\", bbox_inches='tight')\n",
    "plt.savefig(\"plots/crazyara_training_data.pdf\", bbox_inches='tight')"
   ]
  },
  {
   "cell_type": "code",
   "execution_count": null,
   "metadata": {},
   "outputs": [],
   "source": [
    "df_full = pd.concat([df['White'], df['Black']])\n",
    "ax = (df_full.value_counts()[:20][::-1]).plot('barh', title=\"CrazyAra's Traing Data\")\n",
    "ax.set_xlabel(\"Number of Games\")\n",
    "ax.set_ylabel(\"Crazyhouse Players on lichess.org\")"
   ]
  },
  {
   "cell_type": "code",
   "execution_count": null,
   "metadata": {},
   "outputs": [],
   "source": [
    "np.array(df['WhiteElo'].values, np.int).mean()"
   ]
  },
  {
   "cell_type": "code",
   "execution_count": null,
   "metadata": {},
   "outputs": [],
   "source": [
    "np.array(df['WhiteElo'].values, np.int).std()"
   ]
  },
  {
   "cell_type": "code",
   "execution_count": null,
   "metadata": {},
   "outputs": [],
   "source": [
    "df"
   ]
  },
  {
   "cell_type": "code",
   "execution_count": null,
   "metadata": {},
   "outputs": [],
   "source": []
  }
 ],
 "metadata": {
  "kernelspec": {
   "display_name": "Python 3",
   "language": "python",
   "name": "python3"
  },
  "language_info": {
   "codemirror_mode": {
    "name": "ipython",
    "version": 3
   },
   "file_extension": ".py",
   "mimetype": "text/x-python",
   "name": "python",
   "nbconvert_exporter": "python",
   "pygments_lexer": "ipython3"
  }
 },
 "nbformat": 4,
 "nbformat_minor": 2
}
