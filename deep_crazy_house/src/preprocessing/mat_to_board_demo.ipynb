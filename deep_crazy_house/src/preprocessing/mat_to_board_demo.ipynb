{
 "cells": [
  {
   "cell_type": "markdown",
   "metadata": {},
   "source": [
    "# Deep Crazyhouse\n",
    "\n",
    "\n",
    "## Conversion of the Matrix- to Board Representation\n",
    "\n",
    "* file: mat_to_board_demo.ipynb\n",
    "* brief: Loads in a png-file from the lichess crazyhouse dataset and converts it to plane representation. The plane representations can later be used by a convolutional neural network.\n",
    "\n",
    "* author: QueensGambit\n",
    "* contact: johannes.czech@stud.tu-darmstadt.de\n",
    "* version: 2018-07-01 visualized first game"
   ]
  },
  {
   "cell_type": "code",
   "execution_count": null,
   "metadata": {},
   "outputs": [],
   "source": [
    "%load_ext autoreload\n",
    "%autoreload 2"
   ]
  },
  {
   "cell_type": "code",
   "execution_count": null,
   "metadata": {},
   "outputs": [],
   "source": [
    "import sys\n",
    "sys.path.insert(0,'../../../')\n",
    "from DeepCrazyhouse.src.preprocessing.load_pgn_parallel import convert_pgn_to_planes\n",
    "from DeepCrazyhouse.src.preprocessing.plane_converter import get_mat_of_current_board\n",
    "from DeepCrazyhouse.src.model.crazy_house.move_presentation import get_move_representation\n",
    "from DeepCrazyhouse.src.preprocessing.util import *\n",
    "import logging\n",
    "\n",
    "from IPython.core.interactiveshell import InteractiveShell\n",
    "InteractiveShell.ast_node_interactivity = \"all\"\n",
    "\n",
    "import datetime\n",
    "from time import time\n",
    "import chess\n",
    "import matplotlib.pyplot as plt\n",
    "%matplotlib inline"
   ]
  },
  {
   "cell_type": "code",
   "execution_count": null,
   "metadata": {},
   "outputs": [],
   "source": [
    "t_s = time()\n",
    "s_idcs, x, yv, yp, pgn_datasets = load_pgn_dataset('../config.json')\n",
    "t_e = time() - t_s\n",
    "print('Elapsed time for loading(hh:mm:ss): ' + str(datetime.timedelta(seconds=round(time() - t_s))))"
   ]
  },
  {
   "cell_type": "code",
   "execution_count": null,
   "metadata": {},
   "outputs": [],
   "source": [
    "# Unflatten the x_train vector for these test\n",
    "pgn_dataset = pgn_datasets[0]\n",
    "s_idcs = s_idcs[0]\n",
    "x = x[0]\n",
    "yv = yv[0]\n",
    "yp = yp[0]"
   ]
  },
  {
   "cell_type": "markdown",
   "metadata": {},
   "source": [
    "### File Structure of the Dataset"
   ]
  },
  {
   "cell_type": "code",
   "execution_count": null,
   "metadata": {},
   "outputs": [],
   "source": [
    "pgn_dataset.tree()"
   ]
  },
  {
   "cell_type": "markdown",
   "metadata": {},
   "source": [
    "### Show the Metadata of the first Game"
   ]
  },
  {
   "cell_type": "code",
   "execution_count": null,
   "metadata": {},
   "outputs": [],
   "source": [
    "metadata = np.array(pgn_dataset['metadata'])\n",
    "metadata[0, :]\n",
    "metadata[1, :]"
   ]
  },
  {
   "cell_type": "markdown",
   "metadata": {},
   "source": [
    "### Game URL"
   ]
  },
  {
   "cell_type": "code",
   "execution_count": null,
   "metadata": {},
   "outputs": [],
   "source": [
    "print('The game can also be found at:', metadata[1, 1])"
   ]
  },
  {
   "cell_type": "markdown",
   "metadata": {},
   "source": [
    "### Visualize the first Game Moves"
   ]
  },
  {
   "cell_type": "code",
   "execution_count": null,
   "metadata": {},
   "outputs": [],
   "source": [
    "def show_board_pos(x, yp):\n",
    "    \n",
    "    board = get_mat_of_current_board(x) \n",
    "    print(\"{0}'s turn\".format(chess.COLOR_NAMES[board.turn]))\n",
    "    print(\"black/white: {0}\".format(board.pockets))\n",
    "    \n",
    "    planes = yp.reshape(78, 8, 8)\n",
    "    next_move = get_move_representation(board, planes, is_white_to_move=board.turn)\n",
    "    \n",
    "    print(\"next move: {0}\".format(next_move))\n",
    "\n",
    "    return board, next_move"
   ]
  },
  {
   "cell_type": "code",
   "execution_count": null,
   "metadata": {},
   "outputs": [],
   "source": [
    "def set_chess_board():\n",
    "    ax = plt.gca()\n",
    "    ax.set_xticks([0,1,2,3,4,5,6,7])\n",
    "    ax.set_xticklabels( ('a','b','c','d','e','f','g','h')) #, color=my_cmap)\n",
    "\n",
    "    ax.set_yticks([0,1,2,3,4,5,6,7])\n",
    "    ax.set_yticklabels(range(1,9)[::-1],color='black')\n",
    "\n",
    "    ax.tick_params(labeltop=True, labelright=True)\n"
   ]
  },
  {
   "cell_type": "code",
   "execution_count": null,
   "metadata": {},
   "outputs": [],
   "source": [
    "# https://stackoverflow.com/questions/12073306/customize-colorbar-in-matplotlib\n",
    "#255 143 31\n",
    "cdict = {'red':  ( (0.0, 0.0, 0.0),   # <- at 0.0, the red component is 0\n",
    "                   (0.5, 255/255, 255/255),   # <- at 0.5, the red component is 1\n",
    "                   (1.0, 1.0, 1.0)),  # <- at 1.0, the red component is 0\n",
    "\n",
    "         'green': ((0.0, 0.0, 0.0),   # <- etc.\n",
    "                   (0.5, 143/255, 143/255),\n",
    "                   (1.0, 1.0, 1.0)),\n",
    "\n",
    "         'blue':  ((0.0, 0.0, 0.0),\n",
    "                   (0.5, 31/255, 31/255),\n",
    "                   (1.0, 1.0, 1.0))\n",
    "         }\n",
    "\n",
    "my_cmap = matplotlib.colors.LinearSegmentedColormap('my_colormap',cdict,256)\n",
    "\n",
    "#for yp_cur in yp[:10]:\n",
    "yp_mat = yp[2].reshape((78, 8, 8))\n",
    "for i in range(78):\n",
    "    tmp_sum = np.sum(yp_mat[i])\n",
    "    #yp_mat[60, 0, 6] = 1.\n",
    "    if tmp_sum != 0:\n",
    "        print('Movement Channel:',i)\n",
    "        #yp_mat[i, :, :] = 0\n",
    "        #yp_mat[60, 0, 6] = 1.\n",
    "        break\n",
    "        \n",
    "#plt.imshow(np.flipud(yp_mat[i]))\n",
    "\n",
    "\n",
    "#for i in range(64):\n",
    "#    if i % 2 == 0:\n",
    "#        row, col = get_row_col(i)\n",
    "#        chess_pattern[row, col] = 1\n",
    "\n",
    "chess_pattern_flat = np.zeros(9*9)\n",
    "chess_pattern_flat[::2] = 1\n",
    "\n",
    "\n",
    "chess_pattern = chess_pattern_flat.reshape((9,9))[:8,:8]\n",
    "\n",
    "# highlight the move\n",
    "sel_idx = np.flipud(yp_mat[i]).argmax()\n",
    "\n",
    "r, c = get_row_col(sel_idx)\n",
    "chess_pattern[r, c] = 0.5\n",
    "\n",
    "plt.imshow(chess_pattern, cmap=my_cmap)\n",
    "set_chess_board()\n",
    "\n",
    "\n",
    "\n",
    "plt.show()"
   ]
  },
  {
   "cell_type": "code",
   "execution_count": null,
   "metadata": {},
   "outputs": [],
   "source": [
    "b, move = show_board_pos(x[i], yp[i])"
   ]
  },
  {
   "cell_type": "code",
   "execution_count": null,
   "metadata": {},
   "outputs": [],
   "source": [
    "b."
   ]
  },
  {
   "cell_type": "code",
   "execution_count": null,
   "metadata": {},
   "outputs": [],
   "source": [
    "b(move.to_square)"
   ]
  },
  {
   "cell_type": "code",
   "execution_count": null,
   "metadata": {},
   "outputs": [],
   "source": [
    "for i in range(17):\n",
    "    show_board_pos(x[i], yp[i])"
   ]
  },
  {
   "cell_type": "markdown",
   "metadata": {},
   "source": [
    "### Visualize the last 10 moves"
   ]
  },
  {
   "cell_type": "code",
   "execution_count": null,
   "metadata": {},
   "outputs": [],
   "source": [
    "for i in range(s_idcs[1]-10, s_idcs[1]):\n",
    "    show_board_pos(x[i], yp[i])"
   ]
  },
  {
   "cell_type": "markdown",
   "metadata": {},
   "source": [
    "### Show Black's Pawn Formation in the last Position"
   ]
  },
  {
   "cell_type": "code",
   "execution_count": null,
   "metadata": {},
   "outputs": [],
   "source": [
    "plt.imshow(x[s_idcs[1]-1][0], cmap='binary')"
   ]
  },
  {
   "cell_type": "code",
   "execution_count": null,
   "metadata": {},
   "outputs": [],
   "source": []
  }
 ],
 "metadata": {
  "kernelspec": {
   "display_name": "Python 3",
   "language": "python",
   "name": "python3"
  },
  "language_info": {
   "codemirror_mode": {
    "name": "ipython",
    "version": 3
   },
   "file_extension": ".py",
   "mimetype": "text/x-python",
   "name": "python",
   "nbconvert_exporter": "python",
   "pygments_lexer": "ipython3"
  }
 },
 "nbformat": 4,
 "nbformat_minor": 2
}
