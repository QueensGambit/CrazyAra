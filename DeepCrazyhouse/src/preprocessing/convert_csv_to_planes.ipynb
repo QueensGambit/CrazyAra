{
 "cells": [
  {
   "cell_type": "code",
   "execution_count": null,
   "id": "dimensional-sword",
   "metadata": {},
   "outputs": [],
   "source": [
    "import sys, os\n",
    "sys.path.insert(0,'../../../')\n",
    "from csv_to_planes_converter import CSV2PlanesConverter"
   ]
  },
  {
   "cell_type": "code",
   "execution_count": null,
   "id": "mathematical-antigua",
   "metadata": {},
   "outputs": [],
   "source": [
    "PATH_CSV = \"\"\n",
    "PATH_EXPORT = \"\""
   ]
  },
  {
   "cell_type": "code",
   "execution_count": null,
   "id": "human-capitol",
   "metadata": {
    "scrolled": true
   },
   "outputs": [],
   "source": [
    "csv_converter = CSV2PlanesConverter(PATH_CSV, min_elo=0, min_number_moves=0)"
   ]
  },
  {
   "cell_type": "code",
   "execution_count": null,
   "id": "surface-waste",
   "metadata": {
    "scrolled": true
   },
   "outputs": [],
   "source": [
    "csv_converter.export_batches(PATH_EXPORT)"
   ]
  }
 ],
 "metadata": {
  "kernelspec": {
   "display_name": "Python 3",
   "language": "python",
   "name": "python3"
  },
  "language_info": {
   "codemirror_mode": {
    "name": "ipython",
    "version": 3
   },
   "file_extension": ".py",
   "mimetype": "text/x-python",
   "name": "python",
   "nbconvert_exporter": "python",
   "pygments_lexer": "ipython3",
   "version": "3.8.5"
  }
 },
 "nbformat": 4,
 "nbformat_minor": 5
}
