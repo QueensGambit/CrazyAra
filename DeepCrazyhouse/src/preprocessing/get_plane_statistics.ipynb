{
 "cells": [
  {
   "cell_type": "markdown",
   "metadata": {},
   "source": [
    "## Get Plane Statistics (Unit-Test Preparation)\n",
    "\n",
    "* file: get_plane_statistics.ipynb\n",
    "* brief: Allows investigating the board planes and their statistics. These can later be used e.g. for unit-tests.\n",
    "\n",
    "* author: QueensGambit\n",
    "* contact: johannes.czech@cs.tu-darmstadt.de\n",
    "* versions:\n",
    "    * 2021-05-30 initial version"
   ]
  },
  {
   "cell_type": "code",
   "execution_count": null,
   "metadata": {},
   "outputs": [],
   "source": [
    "%load_ext autoreload\n",
    "%autoreload 2\n",
    "%reload_ext autoreload"
   ]
  },
  {
   "cell_type": "code",
   "execution_count": null,
   "metadata": {},
   "outputs": [],
   "source": [
    "import sys, os\n",
    "sys.path.insert(0,'../../../')\n",
    "import os\n",
    "import sys\n",
    "import chess\n",
    "import logging\n",
    "import matplotlib.pyplot as plt\n",
    "from DeepCrazyhouse.src.preprocessing.pgn_to_planes_converter import PGN2PlanesConverter\n",
    "from DeepCrazyhouse.src.runtime.color_logger import enable_color_logging\n",
    "from DeepCrazyhouse.src.domain.variants.input_representation import board_to_planes, get_planes_statistics\n",
    "enable_color_logging()\n",
    "logging.getLogger().setLevel(logging.WARNING)\n",
    "%matplotlib inline"
   ]
  },
  {
   "cell_type": "code",
   "execution_count": null,
   "metadata": {},
   "outputs": [],
   "source": [
    "b = chess.Board()\n",
    "get_planes_statistics(b, False, [])"
   ]
  },
  {
   "cell_type": "code",
   "execution_count": null,
   "metadata": {},
   "outputs": [],
   "source": [
    "get_planes_statistics(b, True, [])"
   ]
  },
  {
   "cell_type": "code",
   "execution_count": null,
   "metadata": {},
   "outputs": [],
   "source": [
    "b = chess.Board(\"rnbqk1nr/pppp1ppp/8/4p3/1b1PP3/8/PPP2PPP/RNBQKBNR w KQkq - 1 3\")\n",
    "get_planes_statistics(b, False, [])"
   ]
  },
  {
   "cell_type": "code",
   "execution_count": null,
   "metadata": {},
   "outputs": [],
   "source": [
    "b = chess.Board()\n",
    "b.push_uci(\"e2e4\")\n",
    "b.push_uci(\"c7c5\")\n",
    "get_planes_statistics(b, False, [\"e2e4\", \"c7c5\"])"
   ]
  },
  {
   "cell_type": "code",
   "execution_count": null,
   "metadata": {},
   "outputs": [],
   "source": [
    "b = chess.Board(\"r1br2k1/p4ppp/2p2n2/Q1b1p3/8/NP3N1P/P1P1BPP1/R1B1K2R b KQ - 0 12\")\n",
    "get_planes_statistics(b, True, [])"
   ]
  },
  {
   "cell_type": "code",
   "execution_count": null,
   "metadata": {},
   "outputs": [],
   "source": [
    "b = chess.Board()\n",
    "uci_moves = [\"e2e4\", \"c7c5\", \"d2d3\", \"a7a6\", \"e4e5\", \"d7d5\"]\n",
    "for uci_move in uci_moves:\n",
    "    b.push_uci(uci_move)\n",
    "get_planes_statistics(b, False, uci_moves)"
   ]
  },
  {
   "cell_type": "code",
   "execution_count": null,
   "metadata": {},
   "outputs": [],
   "source": [
    "b = chess.Board()\n",
    "uci_moves = [\"e2e4\", \"c7c5\", \"e4e5\", \"d7d5\"]\n",
    "for uci_move in uci_moves:\n",
    "    b.push_uci(uci_move)\n",
    "get_planes_statistics(b, False, uci_moves)"
   ]
  },
  {
   "cell_type": "code",
   "execution_count": null,
   "metadata": {},
   "outputs": [],
   "source": [
    "b = chess.Board(\"r3k1nr/pbp4p/p2p2pb/4P3/3P4/N2q1n2/PPP2PPP/5K1R w kq - 0 14\")\n",
    "get_planes_statistics(b, False, [])"
   ]
  },
  {
   "cell_type": "code",
   "execution_count": null,
   "metadata": {},
   "outputs": [],
   "source": [
    "b = chess.Board(\"2kr3r/pbqp1ppp/2n2n2/4b3/4P3/2NPB3/PPP1QPPP/R4RK1 b - - 4 11\")\n",
    "get_planes_statistics(b, True, [])"
   ]
  },
  {
   "cell_type": "code",
   "execution_count": null,
   "metadata": {
    "scrolled": false
   },
   "outputs": [],
   "source": [
    "planes = board_to_planes(b, mode=2)\n",
    "for i, img in enumerate(planes):\n",
    "    print(\"Channel\", i)\n",
    "    plt.imshow(img)\n",
    "    plt.colorbar()\n",
    "    plt.show()"
   ]
  },
  {
   "cell_type": "code",
   "execution_count": null,
   "metadata": {},
   "outputs": [],
   "source": []
  }
 ],
 "metadata": {
  "kernelspec": {
   "display_name": "Python 3",
   "language": "python",
   "name": "python3"
  },
  "language_info": {
   "codemirror_mode": {
    "name": "ipython",
    "version": 3
   },
   "file_extension": ".py",
   "mimetype": "text/x-python",
   "name": "python",
   "nbconvert_exporter": "python",
   "pygments_lexer": "ipython3",
   "version": "3.8.3"
  }
 },
 "nbformat": 4,
 "nbformat_minor": 4
}
